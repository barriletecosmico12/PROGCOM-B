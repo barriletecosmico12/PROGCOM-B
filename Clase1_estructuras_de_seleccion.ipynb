{
  "nbformat": 4,
  "nbformat_minor": 0,
  "metadata": {
    "colab": {
      "provenance": [],
      "authorship_tag": "ABX9TyN/1MhAP9GMmhp0GYko/mmm",
      "include_colab_link": true
    },
    "kernelspec": {
      "name": "python3",
      "display_name": "Python 3"
    },
    "language_info": {
      "name": "python"
    }
  },
  "cells": [
    {
      "cell_type": "markdown",
      "metadata": {
        "id": "view-in-github",
        "colab_type": "text"
      },
      "source": [
        "<a href=\"https://colab.research.google.com/github/barriletecosmico12/PROGCOM-B/blob/main/Clase1_estructuras_de_seleccion.ipynb\" target=\"_parent\"><img src=\"https://colab.research.google.com/assets/colab-badge.svg\" alt=\"Open In Colab\"/></a>"
      ]
    },
    {
      "cell_type": "code",
      "execution_count": null,
      "metadata": {
        "id": "2Ad_qiZbKyij"
      },
      "outputs": [],
      "source": []
    },
    {
      "cell_type": "markdown",
      "source": [
        "#estructuras de seleccion\n",
        "se emplean cuando quiero evaluar una condicion. el resultado de la evaluacion de esta condicion siempre se da en Booleano (v o f)\n",
        "\n",
        "\n",
        "\n"
      ],
      "metadata": {
        "id": "NxlmbqjyLm-7"
      }
    },
    {
      "cell_type": "markdown",
      "source": [
        "##estructura if-else\n",
        "\n",
        "\n",
        "\n",
        "```\n",
        "if (condicion):\n",
        "  entro aqui si la condicion dio verdadero\n",
        "else:\n",
        "  entro aqui si la condicion es falso\n",
        "```\n",
        "\n"
      ],
      "metadata": {
        "id": "yu8kb9k6L6yB"
      }
    },
    {
      "cell_type": "markdown",
      "source": [
        "7. año bisiesto"
      ],
      "metadata": {
        "id": "hwp2-ZY4MryQ"
      }
    },
    {
      "cell_type": "code",
      "source": [
        "#1. es divisible entre 4\n",
        "#2. es divisible entre 400 pero no entre 100\n",
        "año=int(input(\"introduzca un año: \"))\n",
        "if (año%4==0 and año%100!=0):\n",
        "  print(f\"{año} es año bisiesto\")\n",
        "else:\n",
        "  if (año%400==0):\n",
        "    print(f\"{año} es año bisiesto\")\n",
        "  else:\n",
        "    print(f\"{año} No es año bisiesto\")\n"
      ],
      "metadata": {
        "colab": {
          "base_uri": "https://localhost:8080/"
        },
        "id": "fmesmFvEMn0Q",
        "outputId": "e096c775-a289-4358-ebbc-149882af26de"
      },
      "execution_count": 9,
      "outputs": [
        {
          "output_type": "stream",
          "name": "stdout",
          "text": [
            "introduzca un año: 2024\n",
            "2024 es año bisiesto\n"
          ]
        }
      ]
    },
    {
      "cell_type": "markdown",
      "source": [
        "##estructura de decision multiple if-elif-else\n",
        "se emplea cuando hay mas de una decision\n",
        "\n",
        "\n",
        "```\n",
        "if (cond1):\n",
        "  si cond1 es verdadero, entro aqui\n",
        "elif (cond2):\n",
        "  si cond1 es falso, pero cond2 es verdadero entro aqui\n",
        "elif (cond3):\n",
        "si cond1 y cond2 son falsas, pero cond3 es verdadero, entro aqui\n",
        "else: si cond1 cond2 y cond3 son falsas, entrara aqui\n",
        "```\n",
        "\n"
      ],
      "metadata": {
        "id": "fvxzefcbO_Dj"
      }
    },
    {
      "cell_type": "code",
      "source": [
        "\n",
        "if (año%4==0 and año%100!=0):print(f\"{año} es año bisiesto\")\n",
        "elif (año%400==0):print(f\"{año} es año bisiesto\")\n",
        "else:print(f\"{año} No es año bisiesto\")"
      ],
      "metadata": {
        "colab": {
          "base_uri": "https://localhost:8080/"
        },
        "id": "e-gPOhnLRBDp",
        "outputId": "c6fa1f11-41fe-48da-de87-d1c343f1fa94"
      },
      "execution_count": 36,
      "outputs": [
        {
          "output_type": "stream",
          "name": "stdout",
          "text": [
            "2024 es año bisiesto\n"
          ]
        }
      ]
    },
    {
      "cell_type": "markdown",
      "source": [
        "##operador terniario\n",
        "programar una estructura de seleccion en una sola linea de codigo\n",
        "\n",
        "\n",
        "```\n",
        "(lo que se debe ejecutar, si la condicion es verdadera) if (condicion) else (lo que se debe ejecutar, si la condicion es falsa)\n",
        "```\n",
        "\n"
      ],
      "metadata": {
        "id": "NHz7BQHaVQ1C"
      }
    },
    {
      "cell_type": "code",
      "source": [
        "print(f\"{año} es un año bisiesto\") if (año%4==0 and año%100!=0) else (print(f\"{año} es un año bisiesto\")) if (año%400==0) else (print(f\"{año} No es un año bisiesto\"))"
      ],
      "metadata": {
        "colab": {
          "base_uri": "https://localhost:8080/"
        },
        "id": "639OWedpYWGN",
        "outputId": "ca8f2122-3d31-4efb-9acb-da8527ce304d"
      },
      "execution_count": 39,
      "outputs": [
        {
          "output_type": "stream",
          "name": "stdout",
          "text": [
            "2024 es un año bisiesto\n"
          ]
        }
      ]
    },
    {
      "cell_type": "code",
      "source": [
        "a= (f\"{año} es un año bisiesto\") if (año%4==0 and año%100!=0) else b\n",
        "b= (f\"{año} es un año bisiesto\") if (año%400==0) else (f\"{año} No es un año bisiesto\")\n",
        "print(a)"
      ],
      "metadata": {
        "colab": {
          "base_uri": "https://localhost:8080/"
        },
        "id": "_ueCZOKpaNI7",
        "outputId": "3d5749db-8f40-4d4d-a13b-69cfbd0696f1"
      },
      "execution_count": 38,
      "outputs": [
        {
          "output_type": "stream",
          "name": "stdout",
          "text": [
            "2024 es un año bisiesto\n"
          ]
        }
      ]
    },
    {
      "cell_type": "markdown",
      "source": [
        "1 Escribe un programa que reciba un número e indique si es positivo."
      ],
      "metadata": {
        "id": "RQfHrUDqS7Rl"
      }
    },
    {
      "cell_type": "code",
      "source": [
        "num=int(input(\"introduzca un numero: \"))\n",
        "if num>0:\n",
        "  print(f\"{num} es un numero positivo\")\n",
        "else:\n",
        "  print(f\"{num} no es un numero positivo\")"
      ],
      "metadata": {
        "colab": {
          "base_uri": "https://localhost:8080/"
        },
        "id": "HmisgsMaSyh1",
        "outputId": "8d892fb1-18a2-4349-fb18-0c3247c1a294"
      },
      "execution_count": 42,
      "outputs": [
        {
          "output_type": "stream",
          "name": "stdout",
          "text": [
            "introduzca un numero: 12\n",
            "12 es un numero positivo\n"
          ]
        }
      ]
    },
    {
      "cell_type": "code",
      "source": [
        "if num>0: print(f\"{num} es un numero positivo\")\n",
        "elif num==0: print(f\"{num} es un numero neutro\")\n",
        "else: print(f\"{num} no es un numero positivo\")"
      ],
      "metadata": {
        "colab": {
          "base_uri": "https://localhost:8080/"
        },
        "id": "RE9ptvtcUVST",
        "outputId": "487291f5-2b9f-4584-885f-2fd0d51a308a"
      },
      "execution_count": 30,
      "outputs": [
        {
          "output_type": "stream",
          "name": "stdout",
          "text": [
            "0 es un numero neutro\n"
          ]
        }
      ]
    },
    {
      "cell_type": "code",
      "source": [
        "print(f\"{num} es positivo\") if (edad>0) else (print(f\"{num} no es positivo\"))"
      ],
      "metadata": {
        "colab": {
          "base_uri": "https://localhost:8080/"
        },
        "id": "eN_dfBLfayia",
        "outputId": "8a1697af-ba26-4116-a996-a2c3b96ae09a"
      },
      "execution_count": 44,
      "outputs": [
        {
          "output_type": "stream",
          "name": "stdout",
          "text": [
            "12 es positivo\n"
          ]
        }
      ]
    },
    {
      "cell_type": "markdown",
      "source": [
        "2 Escribe un programa que reciba una edad y determine si la persona es mayor de edad."
      ],
      "metadata": {
        "id": "jKljJzFQUvgC"
      }
    },
    {
      "cell_type": "code",
      "source": [
        "edad=int(input(\"introduzca su edad: \"))\n",
        "if edad>=18:\n",
        "  print(f\"{edad} es mayor de edad\")\n",
        "else:\n",
        "  print(f\"{edad} no es mayor de edad\")"
      ],
      "metadata": {
        "colab": {
          "base_uri": "https://localhost:8080/"
        },
        "id": "SsQixGxJUuTr",
        "outputId": "b87c57f1-73e3-44e3-9f41-36b77dc98d30"
      },
      "execution_count": 34,
      "outputs": [
        {
          "output_type": "stream",
          "name": "stdout",
          "text": [
            "introduzca su edad: 200\n",
            "200 es mayor de edad\n"
          ]
        }
      ]
    },
    {
      "cell_type": "code",
      "source": [
        "edad=int(input(\"introduzca su edad: \"))\n",
        "if edad>=21: print(f\"{edad} es mayor de edad en colombia y usa\")\n",
        "elif edad>=18: print(f\"{edad} es mayor de edad en colombia unicamente\")\n",
        "else: print(f\"{edad} no es mayor de edad\")"
      ],
      "metadata": {
        "colab": {
          "base_uri": "https://localhost:8080/"
        },
        "id": "MLPvyqvmXWwP",
        "outputId": "f6bea2a0-fc58-4070-c2b1-7db758f991a9"
      },
      "execution_count": 50,
      "outputs": [
        {
          "output_type": "stream",
          "name": "stdout",
          "text": [
            "introduzca su edad: 18\n",
            "18 es mayor de edad en colombia unicamente\n"
          ]
        }
      ]
    },
    {
      "cell_type": "code",
      "source": [
        "print(f\"{edad} es mayor de edad\") if (edad>=18) else (print(f\"{edad} no es mayor de edad\"))"
      ],
      "metadata": {
        "colab": {
          "base_uri": "https://localhost:8080/"
        },
        "id": "02-d8OxVX6BV",
        "outputId": "6929ba99-e7ca-466f-ad3e-96e26d7f7265"
      },
      "execution_count": 51,
      "outputs": [
        {
          "output_type": "stream",
          "name": "stdout",
          "text": [
            "18 es mayor de edad\n"
          ]
        }
      ]
    },
    {
      "cell_type": "markdown",
      "source": [
        "3 Escribe un programa que reciba dos números e imprima el mayor.\n"
      ],
      "metadata": {
        "id": "iSH6NMqBcwNm"
      }
    },
    {
      "cell_type": "code",
      "source": [
        "num1=int(input(\"introduzca el primer numero: \"))\n",
        "num2=int(input(\"introduzca el segundo numero: \"))\n",
        "if num1>num2:\n",
        "  print(f\"{num1} es el mayor\")\n",
        "else:\n",
        "  print(f\"{num2} es el mayor\")"
      ],
      "metadata": {
        "colab": {
          "base_uri": "https://localhost:8080/"
        },
        "id": "jIHo0b2yc7z9",
        "outputId": "9aeb4c61-6365-40e6-8109-e7c2f3f51e99"
      },
      "execution_count": 61,
      "outputs": [
        {
          "output_type": "stream",
          "name": "stdout",
          "text": [
            "introduzca el primer numero: 12\n",
            "introduzca el segundo numero: 12\n",
            "12 es el mayor\n"
          ]
        }
      ]
    },
    {
      "cell_type": "code",
      "source": [
        "if num1>num2: print(f\"{num1} es el mayor\")\n",
        "elif num1==num2: print(f\"los dos numeros son iguales\")\n",
        "else:  print(f\"{num2} es el mayor\")"
      ],
      "metadata": {
        "colab": {
          "base_uri": "https://localhost:8080/"
        },
        "id": "DGn8jIFwdeQV",
        "outputId": "be7bd9bd-9c7b-44ad-8022-6965785e2935"
      },
      "execution_count": 64,
      "outputs": [
        {
          "output_type": "stream",
          "name": "stdout",
          "text": [
            "los dos numeros son iguales\n"
          ]
        }
      ]
    },
    {
      "cell_type": "code",
      "source": [
        "print(f\"{num1}\") if (num1>num2) else (print(f\"{num2}\"))"
      ],
      "metadata": {
        "colab": {
          "base_uri": "https://localhost:8080/"
        },
        "id": "mMDbyPW9edbC",
        "outputId": "b38a9809-271a-4b1b-8520-3248a0640052"
      },
      "execution_count": 63,
      "outputs": [
        {
          "output_type": "stream",
          "name": "stdout",
          "text": [
            "12\n"
          ]
        }
      ]
    },
    {
      "cell_type": "code",
      "source": [],
      "metadata": {
        "id": "84Ba0_v-e31i"
      },
      "execution_count": null,
      "outputs": []
    }
  ]
}