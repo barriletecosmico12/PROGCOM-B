{
  "nbformat": 4,
  "nbformat_minor": 0,
  "metadata": {
    "colab": {
      "provenance": [],
      "authorship_tag": "ABX9TyOUjnCKgTTGZxsOVIafnrxI",
      "include_colab_link": true
    },
    "kernelspec": {
      "name": "python3",
      "display_name": "Python 3"
    },
    "language_info": {
      "name": "python"
    }
  },
  "cells": [
    {
      "cell_type": "markdown",
      "metadata": {
        "id": "view-in-github",
        "colab_type": "text"
      },
      "source": [
        "<a href=\"https://colab.research.google.com/github/barriletecosmico12/PROGCOM-B/blob/main/prograamadecodificacion.ipynb\" target=\"_parent\"><img src=\"https://colab.research.google.com/assets/colab-badge.svg\" alt=\"Open In Colab\"/></a>"
      ]
    },
    {
      "cell_type": "code",
      "execution_count": 17,
      "metadata": {
        "colab": {
          "base_uri": "https://localhost:8080/"
        },
        "id": "dGTT7FHZwD6_",
        "outputId": "03d0351c-0714-4380-c059-ee5a7e9b0516"
      },
      "outputs": [
        {
          "output_type": "stream",
          "name": "stdout",
          "text": [
            "Escribe tu mensaje codificado: gaki béla orsór\n",
            "\n",
            "Mensaje original: hola cómo estás\n"
          ]
        }
      ],
      "source": [
        "class pandequeso:\n",
        "    def __init__(self):\n",
        "        self.vocales = 'aeiou'\n",
        "        self.vocales_tilde = 'áéíóú'\n",
        "        self.consonantes = 'bcdfghjklmnñpqrstvwxyz'\n",
        "\n",
        "    def codificar(self, texto):\n",
        "        resultado = ''\n",
        "        for c in texto.lower():\n",
        "            if c in self.vocales:\n",
        "                idx = self.vocales.index(c)\n",
        "                nuevo = self.vocales[(idx + 2) % len(self.vocales)]\n",
        "            elif c in self.vocales_tilde:\n",
        "                idx = self.vocales_tilde.index(c)\n",
        "                nuevo = self.vocales_tilde[(idx - 2) % len(self.vocales_tilde)]\n",
        "            elif c in self.consonantes:\n",
        "                idx = self.consonantes.index(c)\n",
        "                nuevo = self.consonantes[(idx - 1) % len(self.consonantes)]\n",
        "            else:\n",
        "                nuevo = c\n",
        "            resultado += nuevo\n",
        "        return resultado\n",
        "\n",
        "    def decodificar(self, texto):\n",
        "        resultado = ''\n",
        "        for c in texto.lower():\n",
        "            if c in self.vocales:\n",
        "                idx = self.vocales.index(c)\n",
        "                nuevo = self.vocales[(idx - 2) % len(self.vocales)]\n",
        "            elif c in self.vocales_tilde:\n",
        "                idx = self.vocales_tilde.index(c)\n",
        "                nuevo = self.vocales_tilde[(idx + 2) % len(self.vocales_tilde)]\n",
        "            elif c in self.consonantes:\n",
        "                idx = self.consonantes.index(c)\n",
        "                nuevo = self.consonantes[(idx + 1) % len(self.consonantes)]\n",
        "            else:\n",
        "                nuevo = c\n",
        "            resultado += nuevo\n",
        "        return resultado\n",
        "\n",
        "\n",
        "# Solo decodificar\n",
        "quesito = pandequeso()\n",
        "mensaje_codificado = input(\"Escribe tu mensaje codificado: \")\n",
        "\n",
        "mensaje_original = quesito.decodificar(mensaje_codificado)\n",
        "\n",
        "\n",
        "print(\"\\nMensaje original:\", mensaje_original)\n"
      ]
    },
    {
      "cell_type": "code",
      "source": [
        "quesito = pandequeso()\n",
        "mensaje = \"gaki\"\n",
        "codificado = quesito.codificar(mensaje)\n",
        "decodificado = quesito.decodificar(codificado)"
      ],
      "metadata": {
        "colab": {
          "base_uri": "https://localhost:8080/",
          "height": 315
        },
        "id": "aUPieRxfwQhq",
        "outputId": "f89bcc87-a0ff-4768-98e5-b0268cbb5b94"
      },
      "execution_count": 9,
      "outputs": [
        {
          "output_type": "error",
          "ename": "AttributeError",
          "evalue": "'pandequeso' object has no attribute 'vocales'",
          "traceback": [
            "\u001b[0;31m---------------------------------------------------------------------------\u001b[0m",
            "\u001b[0;31mAttributeError\u001b[0m                            Traceback (most recent call last)",
            "\u001b[0;32m/tmp/ipython-input-3645412792.py\u001b[0m in \u001b[0;36m<cell line: 0>\u001b[0;34m()\u001b[0m\n\u001b[1;32m      1\u001b[0m \u001b[0mquesito\u001b[0m \u001b[0;34m=\u001b[0m \u001b[0mpandequeso\u001b[0m\u001b[0;34m(\u001b[0m\u001b[0;34m)\u001b[0m\u001b[0;34m\u001b[0m\u001b[0;34m\u001b[0m\u001b[0m\n\u001b[1;32m      2\u001b[0m \u001b[0mmensaje\u001b[0m \u001b[0;34m=\u001b[0m \u001b[0;34m\"gaki\"\u001b[0m\u001b[0;34m\u001b[0m\u001b[0;34m\u001b[0m\u001b[0m\n\u001b[0;32m----> 3\u001b[0;31m \u001b[0mcodificado\u001b[0m \u001b[0;34m=\u001b[0m \u001b[0mquesito\u001b[0m\u001b[0;34m.\u001b[0m\u001b[0mcodificar\u001b[0m\u001b[0;34m(\u001b[0m\u001b[0mmensaje\u001b[0m\u001b[0;34m)\u001b[0m\u001b[0;34m\u001b[0m\u001b[0;34m\u001b[0m\u001b[0m\n\u001b[0m\u001b[1;32m      4\u001b[0m \u001b[0mdecodificado\u001b[0m \u001b[0;34m=\u001b[0m \u001b[0mquesito\u001b[0m\u001b[0;34m.\u001b[0m\u001b[0mdecodificar\u001b[0m\u001b[0;34m(\u001b[0m\u001b[0mcodificado\u001b[0m\u001b[0;34m)\u001b[0m\u001b[0;34m\u001b[0m\u001b[0;34m\u001b[0m\u001b[0m\n",
            "\u001b[0;32m/tmp/ipython-input-1697802695.py\u001b[0m in \u001b[0;36mcodificar\u001b[0;34m(self, texto)\u001b[0m\n\u001b[1;32m      8\u001b[0m         \u001b[0mresultado\u001b[0m \u001b[0;34m=\u001b[0m \u001b[0;34m''\u001b[0m\u001b[0;34m\u001b[0m\u001b[0;34m\u001b[0m\u001b[0m\n\u001b[1;32m      9\u001b[0m         \u001b[0;32mfor\u001b[0m \u001b[0mc\u001b[0m \u001b[0;32min\u001b[0m \u001b[0mtexto\u001b[0m\u001b[0;34m.\u001b[0m\u001b[0mlower\u001b[0m\u001b[0;34m(\u001b[0m\u001b[0;34m)\u001b[0m\u001b[0;34m:\u001b[0m\u001b[0;34m\u001b[0m\u001b[0;34m\u001b[0m\u001b[0m\n\u001b[0;32m---> 10\u001b[0;31m             \u001b[0;32mif\u001b[0m \u001b[0mc\u001b[0m \u001b[0;32min\u001b[0m \u001b[0mself\u001b[0m\u001b[0;34m.\u001b[0m\u001b[0mvocales\u001b[0m\u001b[0;34m:\u001b[0m\u001b[0;34m\u001b[0m\u001b[0;34m\u001b[0m\u001b[0m\n\u001b[0m\u001b[1;32m     11\u001b[0m                 \u001b[0midx\u001b[0m \u001b[0;34m=\u001b[0m \u001b[0mself\u001b[0m\u001b[0;34m.\u001b[0m\u001b[0mvocales\u001b[0m\u001b[0;34m.\u001b[0m\u001b[0mindex\u001b[0m\u001b[0;34m(\u001b[0m\u001b[0mc\u001b[0m\u001b[0;34m)\u001b[0m\u001b[0;34m\u001b[0m\u001b[0;34m\u001b[0m\u001b[0m\n\u001b[1;32m     12\u001b[0m                 \u001b[0mnuevo\u001b[0m \u001b[0;34m=\u001b[0m \u001b[0mself\u001b[0m\u001b[0;34m.\u001b[0m\u001b[0mvocales\u001b[0m\u001b[0;34m[\u001b[0m\u001b[0;34m(\u001b[0m\u001b[0midx\u001b[0m \u001b[0;34m+\u001b[0m \u001b[0;36m2\u001b[0m\u001b[0;34m)\u001b[0m \u001b[0;34m%\u001b[0m \u001b[0mlen\u001b[0m\u001b[0;34m(\u001b[0m\u001b[0mself\u001b[0m\u001b[0;34m.\u001b[0m\u001b[0mvocales\u001b[0m\u001b[0;34m)\u001b[0m\u001b[0;34m]\u001b[0m\u001b[0;34m\u001b[0m\u001b[0;34m\u001b[0m\u001b[0m\n",
            "\u001b[0;31mAttributeError\u001b[0m: 'pandequeso' object has no attribute 'vocales'"
          ]
        }
      ]
    }
  ]
}