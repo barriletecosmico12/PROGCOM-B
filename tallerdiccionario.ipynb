{
  "nbformat": 4,
  "nbformat_minor": 0,
  "metadata": {
    "colab": {
      "provenance": [],
      "authorship_tag": "ABX9TyMvhLGmDN3YIsnrPlUmPZ4n",
      "include_colab_link": true
    },
    "kernelspec": {
      "name": "python3",
      "display_name": "Python 3"
    },
    "language_info": {
      "name": "python"
    }
  },
  "cells": [
    {
      "cell_type": "markdown",
      "metadata": {
        "id": "view-in-github",
        "colab_type": "text"
      },
      "source": [
        "<a href=\"https://colab.research.google.com/github/barriletecosmico12/PROGCOM-B/blob/main/tallerdiccionario.ipynb\" target=\"_parent\"><img src=\"https://colab.research.google.com/assets/colab-badge.svg\" alt=\"Open In Colab\"/></a>"
      ]
    },
    {
      "cell_type": "code",
      "execution_count": null,
      "metadata": {
        "id": "uqRDqSiYMKAZ"
      },
      "outputs": [],
      "source": [
        "##Crea una función que reciba un diccionario con claves &#39;nombre&#39; y &#39;edad&#39;, y retorne un mensaje con esos datos.\n",
        "def mensaje(personas):\n",
        "    nombre = personas.get(\"nombre\")\n",
        "    edad = personas.get(\"edad\")\n",
        "    return f\"{nombre} tiene {edad} años.\"\n",
        "personas = {\"nombre\": \"Carlos\", \"edad\": 30}\n",
        "mensaje = mensaje(personas)\n",
        "print(mensaje)"
      ]
    },
    {
      "cell_type": "code",
      "source": [
        "##ejercicio 14\n",
        "def total(productos):\n",
        "    total = sum(productos.values())\n",
        "    return total\n",
        "productos = {\"manzana\": 1.5,\"pan\": 2.0,\"leche\": 3.25}\n",
        "print(total(productos))\n"
      ],
      "metadata": {
        "id": "zHucCslMMMXA"
      },
      "execution_count": null,
      "outputs": []
    },
    {
      "cell_type": "code",
      "source": [
        "def total(productos):\n",
        "    total = sum(producto for producto in productos.values())\n",
        "    return total\n",
        "productos = {\"manzana\": 1.5,\"pan\": 2.0,\"leche\": 3.25}\n",
        "print(total(productos))"
      ],
      "metadata": {
        "id": "LXzfBtoiMSCH"
      },
      "execution_count": null,
      "outputs": []
    }
  ]
}