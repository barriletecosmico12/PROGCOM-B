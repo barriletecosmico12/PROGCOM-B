{
  "nbformat": 4,
  "nbformat_minor": 0,
  "metadata": {
    "colab": {
      "provenance": []
    },
    "kernelspec": {
      "name": "python3",
      "display_name": "Python 3"
    },
    "language_info": {
      "name": "python"
    }
  },
  "cells": [
    {
      "cell_type": "markdown",
      "source": [
        "##EJERCICIOS DE SELECCION"
      ],
      "metadata": {
        "id": "-JrLgpbpt_np"
      }
    },
    {
      "cell_type": "markdown",
      "source": [
        "##Parte 1: Estructuras de Decisión (10 ejercicios)"
      ],
      "metadata": {
        "id": "-Dmha_kEuMR4"
      }
    },
    {
      "cell_type": "markdown",
      "source": [
        "1\tEscribe un programa que reciba un número e indique si es positivo.\n",
        "\n",
        "\n",
        "```\n",
        "Algoritmo\n",
        "\tnum=0\n",
        "\tescribir \"ingrese un numero cualquiera\"\n",
        "\tleer num\n",
        "\t\tSi num>0 Entonces\n",
        "\t\t\tescribir num,\"es positivo\"\n",
        "\t\tSiNo\n",
        "\t\t\tescribir num,\"es negativo\"\n",
        "\t\tFin Si\n",
        "FinAlgoritmor num, \" es negativo\"\n",
        "\n",
        "\n",
        "```\n",
        "\n"
      ],
      "metadata": {
        "id": "a0jXEvk8u0I_"
      }
    },
    {
      "cell_type": "markdown",
      "source": [
        "2\tEscribe un programa que reciba una edad y determine si la persona es mayor de edad.\n",
        "\n",
        "\n",
        "\n",
        "```\n",
        "Algoritmo\n",
        "\tedad=0\n",
        "\tescribir \"ingrese su edad\"\n",
        "\tleer edad\n",
        "\t\tSi edad>=18 Entonces\n",
        "\t\t\tescribir \"es mayor de edad\"\n",
        "\t\tSiNo\n",
        "\t\t\tescribir \"no es mayor de edad\"\n",
        "\t\tFin Si\n",
        "FinAlgoritmo\n",
        "\n",
        "```\n",
        "\n"
      ],
      "metadata": {
        "id": "P3Pp_1q8wmwu"
      }
    },
    {
      "cell_type": "markdown",
      "source": [
        "3\tEscribe un programa que reciba dos números e imprima el mayor.\n",
        "\n",
        "\n",
        "```\n",
        "Algoritmo\n",
        "\tnum1=0\n",
        "\tnum2=0\n",
        "\tescribir \"ingrese un numero\"\n",
        "\tleer num1\n",
        "\tescribir \"ingrese otro\"\n",
        "\tleer num2\n",
        "\tSi num1>num2 Entonces\n",
        "\t\t\tescribir num1\n",
        "\t\tSiNo\n",
        "\t\t\tescribir num2\n",
        "\t\tFin Si\n",
        "FinAlgoritmo\n",
        "\n",
        "```\n",
        "\n",
        "\n"
      ],
      "metadata": {
        "id": "yz_hw4DIyZCU"
      }
    },
    {
      "cell_type": "markdown",
      "source": [
        "4\tEscribe un programa que reciba una calificación (0-100) e indique si es Aprobado (>=60) o Reprobado.\n",
        "\n",
        "\n",
        "\n",
        "```\n",
        "Algoritmo\n",
        "\tcalificacion=0\n",
        "\tescribir \"ingrese la calificacion\"\n",
        "\tleer calificacion\n",
        "\tSi calificacion>=60 Entonces\n",
        "\t\t\tescribir \"aprobo\"\n",
        "\t\tSiNo\n",
        "\t\t\tescribir \"reprobo\"\n",
        "\t\tFin Si\n",
        "FinAlgoritmo\n",
        "```\n",
        "\n",
        "\n"
      ],
      "metadata": {
        "id": "iKi0Ep81zN2j"
      }
    },
    {
      "cell_type": "markdown",
      "source": [
        "5\tEscribe un programa que determine si un número es par o impar.\n",
        "\n",
        "\n",
        "\n",
        "```\n",
        "Algoritmo\n",
        "\tnum=0\n",
        "\tescribir \"ingreseun numero\"\n",
        "\tleer num\n",
        "\tSi num % 2 ==0 Entonces\n",
        "\t\t\tescribir \"el numero es par\"\n",
        "\t\tSiNo\n",
        "\t\t\tescribir \"no es par\"\n",
        "\t\tFin Si\n",
        "FinAlgoritmo\n",
        "\n",
        "```\n",
        "\n"
      ],
      "metadata": {
        "id": "t_6Znafmz9R6"
      }
    },
    {
      "cell_type": "markdown",
      "source": [
        "6\tEscribe un programa que reciba tres números e imprima el mayor de los tres.\n",
        "\n",
        "\n",
        "```\n",
        "# Tiene formato de código\n",
        "```\n",
        "\n"
      ],
      "metadata": {
        "id": "mY9DOFFn2L-Y"
      }
    }
  ]
}