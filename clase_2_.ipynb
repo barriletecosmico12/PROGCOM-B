{
  "nbformat": 4,
  "nbformat_minor": 0,
  "metadata": {
    "colab": {
      "provenance": [],
      "authorship_tag": "ABX9TyMm7FW68/MBngExWdp1AzST",
      "include_colab_link": true
    },
    "kernelspec": {
      "name": "python3",
      "display_name": "Python 3"
    },
    "language_info": {
      "name": "python"
    }
  },
  "cells": [
    {
      "cell_type": "markdown",
      "metadata": {
        "id": "view-in-github",
        "colab_type": "text"
      },
      "source": [
        "<a href=\"https://colab.research.google.com/github/barriletecosmico12/PROGCOM-B/blob/main/clase_2_.ipynb\" target=\"_parent\"><img src=\"https://colab.research.google.com/assets/colab-badge.svg\" alt=\"Open In Colab\"/></a>"
      ]
    },
    {
      "cell_type": "markdown",
      "source": [
        "\n",
        "##Listas\n",
        "* son un conjunto de tipos de datos. **indexado** separado por comas y encerrado entre[]\n",
        "* todos los elementos de una lista se empizan a contar desde 0\n",
        "##creacion de listas\n",
        "* forma general:lista=[]\n",
        "* forma manual: animales=[\"gato\", \"perro\", \"zorro\"]\n",
        "* por conversion: numero=list(range(10))\n",
        "* son objetos\n",
        "\n",
        "\n"
      ],
      "metadata": {
        "id": "BAWoRSi6yEXs"
      }
    },
    {
      "cell_type": "markdown",
      "source": [
        "1. lista=[]"
      ],
      "metadata": {
        "id": "AvtB-T3FzOlL"
      }
    },
    {
      "cell_type": "code",
      "source": [
        "lista=[]"
      ],
      "metadata": {
        "id": "BIvzCJUg0iy5"
      },
      "execution_count": null,
      "outputs": []
    },
    {
      "cell_type": "code",
      "source": [
        "lista=list(range(1,8))"
      ],
      "metadata": {
        "id": "F7Ba_NRDQFT1"
      },
      "execution_count": null,
      "outputs": []
    },
    {
      "cell_type": "code",
      "source": [
        "type(lista)"
      ],
      "metadata": {
        "colab": {
          "base_uri": "https://localhost:8080/"
        },
        "id": "mrdNT_MczRYr",
        "outputId": "eab08393-84bd-4d75-d1a1-fdb776d7cd2b"
      },
      "execution_count": null,
      "outputs": [
        {
          "output_type": "execute_result",
          "data": {
            "text/plain": [
              "list"
            ]
          },
          "metadata": {},
          "execution_count": 10
        }
      ]
    },
    {
      "cell_type": "code",
      "source": [
        " zorro=[1,2,3,4]\n",
        " animales=[\"gato\", \"perro\", zorro]\n",
        " animales"
      ],
      "metadata": {
        "colab": {
          "base_uri": "https://localhost:8080/"
        },
        "id": "OfEOHkV1zykb",
        "outputId": "71939025-0fec-42ff-dae5-8260e0472b00"
      },
      "execution_count": null,
      "outputs": [
        {
          "output_type": "execute_result",
          "data": {
            "text/plain": [
              "['gato', 'perro', [1, 2, 3, 4]]"
            ]
          },
          "metadata": {},
          "execution_count": 8
        }
      ]
    },
    {
      "cell_type": "code",
      "source": [
        "type(zorro)"
      ],
      "metadata": {
        "colab": {
          "base_uri": "https://localhost:8080/"
        },
        "id": "PbseBH1cz_I7",
        "outputId": "2dae62e7-052e-4935-86b9-80166931cfb4"
      },
      "execution_count": null,
      "outputs": [
        {
          "output_type": "execute_result",
          "data": {
            "text/plain": [
              "list"
            ]
          },
          "metadata": {},
          "execution_count": 9
        }
      ]
    },
    {
      "cell_type": "code",
      "source": [
        "numero=list(range(10))\n",
        "numero"
      ],
      "metadata": {
        "colab": {
          "base_uri": "https://localhost:8080/"
        },
        "id": "QP2Eiogn1KLi",
        "outputId": "b9a9e2e7-1bde-4a3b-fbe8-02104fa2f82b"
      },
      "execution_count": null,
      "outputs": [
        {
          "output_type": "execute_result",
          "data": {
            "text/plain": [
              "[0, 1, 2, 3, 4, 5, 6, 7, 8, 9]"
            ]
          },
          "metadata": {},
          "execution_count": 10
        }
      ]
    },
    {
      "cell_type": "code",
      "source": [
        "range(10)"
      ],
      "metadata": {
        "colab": {
          "base_uri": "https://localhost:8080/"
        },
        "id": "Vjr9nzMw1SFR",
        "outputId": "a83b671e-8d00-49af-e85a-58ef31ba7b22"
      },
      "execution_count": null,
      "outputs": [
        {
          "output_type": "execute_result",
          "data": {
            "text/plain": [
              "range(0, 10)"
            ]
          },
          "metadata": {},
          "execution_count": 11
        }
      ]
    },
    {
      "cell_type": "code",
      "source": [],
      "metadata": {
        "id": "Gr-6sML-1VmR"
      },
      "execution_count": null,
      "outputs": []
    },
    {
      "cell_type": "markdown",
      "source": [
        "##Estructura para - (for)\n",
        "\n",
        "se usa cuando:\n",
        "* se sabe **cuantas veces** se repite una acción.\n",
        "* Está compuesta por un contador y una condición.\n",
        "* **contador**: Identifica cuantas veces se va a repetir el bucle y con qué frecuencia.\n",
        "* **condición**: Evalua cuando se detiene.\n",
        "\n",
        "Por definición:\n",
        "\n",
        "\n",
        "\n",
        "```\n",
        "for variable in range(vi, vf+1,paso):\n",
        " aqui se repite parte del codigo\n",
        "```\n",
        "\n"
      ],
      "metadata": {
        "id": "sOj-aCPGppks"
      }
    },
    {
      "cell_type": "markdown",
      "source": [
        "donde\n",
        "1. vi: condicion inicial. donde arranco a contar\n",
        "2. vf+1: condicion final. donde dejo de contar+1\n",
        "3. paso: frecuencia de conteo\n",
        "\n",
        "for para recorrido de listas\n",
        "flor=[\"amapola\", \"tulipan\", \"rosa\"]\n",
        "* el para va a iterar tantas veces como elementos tenga la lista\n",
        "* la variable dentro del para toma como valor, ada elemento de la lista\n",
        "\n",
        "```\n",
        "for variable in lista:\n",
        "  variable\n",
        "```\n",
        "\n"
      ],
      "metadata": {
        "id": "iJ93bfdB1Djy"
      }
    },
    {
      "cell_type": "code",
      "source": [
        "#creando una lista de nombre flor\n",
        "flor=[\"amapola\", \"rosa\", \"tulipan\", \"orquidea\"]\n",
        "for flores in flor:\n",
        "  print(flores)\n",
        "  if flores==\"tulipan\":\n",
        "    break #rompe la iteracion"
      ],
      "metadata": {
        "colab": {
          "base_uri": "https://localhost:8080/"
        },
        "id": "M1wUS5tM2uR5",
        "outputId": "2f8841be-83a0-4054-8ac0-6c288704ae8c"
      },
      "execution_count": null,
      "outputs": [
        {
          "output_type": "stream",
          "name": "stdout",
          "text": [
            "amapola\n",
            "rosa\n",
            "tulipan\n"
          ]
        }
      ]
    },
    {
      "cell_type": "code",
      "source": [
        "nombre=[]\n",
        "for nombres in range(5):\n",
        "  nombre.append(input(\"ingrese su nombre:\"))"
      ],
      "metadata": {
        "colab": {
          "base_uri": "https://localhost:8080/"
        },
        "id": "0C_3bmQDRtq2",
        "outputId": "a99c01c3-8ef8-486c-b17b-43509870b894"
      },
      "execution_count": null,
      "outputs": [
        {
          "name": "stdout",
          "output_type": "stream",
          "text": [
            "ingrese su nombre:jj\n",
            "ingrese su nombre:f\n",
            "ingrese su nombre:j\n",
            "ingrese su nombre:jgj\n",
            "ingrese su nombre:j\n"
          ]
        }
      ]
    },
    {
      "cell_type": "markdown",
      "source": [
        "##estructura while\n",
        "* se emplea cuando **no se sabe** cuantas veces debe repetir una accion, pero si se conoce su condicion de parada (CP).\n",
        "* condicion inicial: donde arranca el ciclo\n",
        "* condicion final (parada): que indica donde se detiene el ciclo\n",
        "* modificador de condicion inicial\n",
        "\n",
        "estructura general del mientras\n",
        "\n",
        "\n",
        "\n",
        "```\n",
        "condicion inicial\n",
        "while (condicion==condicion final):\n",
        "  modificador de condicion inicial\n",
        "```\n",
        "modificadores de condicion inicial\n",
        "* banderas: son booleanos\n",
        "* son preguntas\n",
        "* son contadores o acumuladores\n"
      ],
      "metadata": {
        "id": "_iyGneSv4hRP"
      }
    },
    {
      "cell_type": "markdown",
      "source": [
        "mutabilidad e inmutalidad"
      ],
      "metadata": {
        "id": "TK-Rja_HTNZc"
      }
    },
    {
      "cell_type": "markdown",
      "source": [
        "1 Escribe un programa que imprima los números del 1 al 10."
      ],
      "metadata": {
        "id": "1hudoN5vVL1q"
      }
    },
    {
      "cell_type": "code",
      "source": [
        "for numeros in range(1,11):\n",
        "  print(numeros)\n"
      ],
      "metadata": {
        "colab": {
          "base_uri": "https://localhost:8080/"
        },
        "id": "c-fIWuZSVLeh",
        "outputId": "32516651-dc72-43db-ff7f-5b9a622006bf"
      },
      "execution_count": null,
      "outputs": [
        {
          "output_type": "stream",
          "name": "stdout",
          "text": [
            "1\n",
            "2\n",
            "3\n",
            "4\n",
            "5\n",
            "6\n",
            "7\n",
            "8\n",
            "9\n",
            "10\n"
          ]
        }
      ]
    },
    {
      "cell_type": "code",
      "source": [
        "num=[1,2,3,4,5,6,7,8,9,10]\n",
        "for numeros in num:\n",
        "  print(numeros)"
      ],
      "metadata": {
        "colab": {
          "base_uri": "https://localhost:8080/"
        },
        "id": "F40kUfnqWVB5",
        "outputId": "64747384-9574-45eb-dcf9-3fff567aefee"
      },
      "execution_count": null,
      "outputs": [
        {
          "output_type": "stream",
          "name": "stdout",
          "text": [
            "1\n",
            "2\n",
            "3\n",
            "4\n",
            "5\n",
            "6\n",
            "7\n",
            "8\n",
            "9\n",
            "10\n"
          ]
        }
      ]
    },
    {
      "cell_type": "markdown",
      "source": [
        "2 Escribe un programa que sume los números del 1 al 100."
      ],
      "metadata": {
        "id": "Yp8VXy0qXgPA"
      }
    },
    {
      "cell_type": "code",
      "source": [
        "suma= 0\n",
        "for nums in range(1,101):\n",
        "  suma+= nums\n",
        "  print(suma)"
      ],
      "metadata": {
        "colab": {
          "base_uri": "https://localhost:8080/"
        },
        "id": "IuYYqt46XhVA",
        "outputId": "2bdd466d-10ea-4d9b-903c-edf6cf1fa8d9"
      },
      "execution_count": null,
      "outputs": [
        {
          "output_type": "stream",
          "name": "stdout",
          "text": [
            "1\n",
            "3\n",
            "6\n",
            "10\n",
            "15\n",
            "21\n",
            "28\n",
            "36\n",
            "45\n",
            "55\n",
            "66\n",
            "78\n",
            "91\n",
            "105\n",
            "120\n",
            "136\n",
            "153\n",
            "171\n",
            "190\n",
            "210\n",
            "231\n",
            "253\n",
            "276\n",
            "300\n",
            "325\n",
            "351\n",
            "378\n",
            "406\n",
            "435\n",
            "465\n",
            "496\n",
            "528\n",
            "561\n",
            "595\n",
            "630\n",
            "666\n",
            "703\n",
            "741\n",
            "780\n",
            "820\n",
            "861\n",
            "903\n",
            "946\n",
            "990\n",
            "1035\n",
            "1081\n",
            "1128\n",
            "1176\n",
            "1225\n",
            "1275\n",
            "1326\n",
            "1378\n",
            "1431\n",
            "1485\n",
            "1540\n",
            "1596\n",
            "1653\n",
            "1711\n",
            "1770\n",
            "1830\n",
            "1891\n",
            "1953\n",
            "2016\n",
            "2080\n",
            "2145\n",
            "2211\n",
            "2278\n",
            "2346\n",
            "2415\n",
            "2485\n",
            "2556\n",
            "2628\n",
            "2701\n",
            "2775\n",
            "2850\n",
            "2926\n",
            "3003\n",
            "3081\n",
            "3160\n",
            "3240\n",
            "3321\n",
            "3403\n",
            "3486\n",
            "3570\n",
            "3655\n",
            "3741\n",
            "3828\n",
            "3916\n",
            "4005\n",
            "4095\n",
            "4186\n",
            "4278\n",
            "4371\n",
            "4465\n",
            "4560\n",
            "4656\n",
            "4753\n",
            "4851\n",
            "4950\n",
            "5050\n"
          ]
        }
      ]
    },
    {
      "cell_type": "code",
      "source": [
        "suma=0\n",
        "num=list(range(1,101))\n",
        "for num in num:\n",
        "  suma+=num\n",
        "  print(suma)"
      ],
      "metadata": {
        "colab": {
          "base_uri": "https://localhost:8080/"
        },
        "id": "ybMOSjg7adg2",
        "outputId": "bd50eba7-444a-4862-da48-3b3e3266e784"
      },
      "execution_count": null,
      "outputs": [
        {
          "output_type": "stream",
          "name": "stdout",
          "text": [
            "1\n",
            "3\n",
            "6\n",
            "10\n",
            "15\n",
            "21\n",
            "28\n",
            "36\n",
            "45\n",
            "55\n",
            "66\n",
            "78\n",
            "91\n",
            "105\n",
            "120\n",
            "136\n",
            "153\n",
            "171\n",
            "190\n",
            "210\n",
            "231\n",
            "253\n",
            "276\n",
            "300\n",
            "325\n",
            "351\n",
            "378\n",
            "406\n",
            "435\n",
            "465\n",
            "496\n",
            "528\n",
            "561\n",
            "595\n",
            "630\n",
            "666\n",
            "703\n",
            "741\n",
            "780\n",
            "820\n",
            "861\n",
            "903\n",
            "946\n",
            "990\n",
            "1035\n",
            "1081\n",
            "1128\n",
            "1176\n",
            "1225\n",
            "1275\n",
            "1326\n",
            "1378\n",
            "1431\n",
            "1485\n",
            "1540\n",
            "1596\n",
            "1653\n",
            "1711\n",
            "1770\n",
            "1830\n",
            "1891\n",
            "1953\n",
            "2016\n",
            "2080\n",
            "2145\n",
            "2211\n",
            "2278\n",
            "2346\n",
            "2415\n",
            "2485\n",
            "2556\n",
            "2628\n",
            "2701\n",
            "2775\n",
            "2850\n",
            "2926\n",
            "3003\n",
            "3081\n",
            "3160\n",
            "3240\n",
            "3321\n",
            "3403\n",
            "3486\n",
            "3570\n",
            "3655\n",
            "3741\n",
            "3828\n",
            "3916\n",
            "4005\n",
            "4095\n",
            "4186\n",
            "4278\n",
            "4371\n",
            "4465\n",
            "4560\n",
            "4656\n",
            "4753\n",
            "4851\n",
            "4950\n",
            "5050\n"
          ]
        }
      ]
    },
    {
      "cell_type": "markdown",
      "source": [
        "3 Escribe un programa que imprima los múltiplos de 3 entre 1 y 30."
      ],
      "metadata": {
        "id": "Sv99eMWDdeHk"
      }
    },
    {
      "cell_type": "code",
      "source": [
        "for nums in range(1,31):\n",
        "  if nums%3==0:\n",
        "   print(nums)"
      ],
      "metadata": {
        "colab": {
          "base_uri": "https://localhost:8080/"
        },
        "id": "Yys5RQ-Cd_fz",
        "outputId": "19e09100-7fd8-4a53-f405-0df27fab5c34"
      },
      "execution_count": null,
      "outputs": [
        {
          "output_type": "stream",
          "name": "stdout",
          "text": [
            "3\n",
            "6\n",
            "9\n",
            "12\n",
            "15\n",
            "18\n",
            "21\n",
            "24\n",
            "27\n",
            "30\n"
          ]
        }
      ]
    },
    {
      "cell_type": "code",
      "source": [
        "nums=list(range(1,31))\n",
        "for nums in nums:\n",
        "  if nums%3==0:\n",
        "   print(nums)"
      ],
      "metadata": {
        "colab": {
          "base_uri": "https://localhost:8080/"
        },
        "id": "oNHw5Nq0fVdC",
        "outputId": "6c7e9e62-be29-4c3e-e9a5-99427fff73e9"
      },
      "execution_count": null,
      "outputs": [
        {
          "output_type": "stream",
          "name": "stdout",
          "text": [
            "3\n",
            "6\n",
            "9\n",
            "12\n",
            "15\n",
            "18\n",
            "21\n",
            "24\n",
            "27\n",
            "30\n"
          ]
        }
      ]
    },
    {
      "cell_type": "markdown",
      "source": [
        "4 Escribe un programa que lea un número e imprima su tabla de multiplicar del 1 al 10."
      ],
      "metadata": {
        "id": "KfL3C4OZfkoa"
      }
    },
    {
      "cell_type": "code",
      "source": [
        "multiplicacion=0\n",
        "input(\"ingrese un numero:\")\n",
        "numero\n",
        "for num in range(1,11):\n",
        "  num*=numero\n",
        "  print(num)\n",
        "\n"
      ],
      "metadata": {
        "colab": {
          "base_uri": "https://localhost:8080/"
        },
        "id": "1uAwUh57fn0G",
        "outputId": "1185812e-60dd-4471-c7c5-3a9f923423cb"
      },
      "execution_count": null,
      "outputs": [
        {
          "output_type": "stream",
          "name": "stdout",
          "text": [
            "ingrese un numero:1\n",
            "0\n",
            "0\n",
            "0\n",
            "0\n",
            "0\n",
            "0\n",
            "0\n",
            "0\n",
            "0\n",
            "0\n"
          ]
        }
      ]
    }
  ]
}