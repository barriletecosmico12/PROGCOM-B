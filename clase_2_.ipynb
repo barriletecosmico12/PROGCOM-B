{
  "nbformat": 4,
  "nbformat_minor": 0,
  "metadata": {
    "colab": {
      "provenance": [],
      "authorship_tag": "ABX9TyPSv5l0oEpULt1wva9gkvMM",
      "include_colab_link": true
    },
    "kernelspec": {
      "name": "python3",
      "display_name": "Python 3"
    },
    "language_info": {
      "name": "python"
    }
  },
  "cells": [
    {
      "cell_type": "markdown",
      "metadata": {
        "id": "view-in-github",
        "colab_type": "text"
      },
      "source": [
        "<a href=\"https://colab.research.google.com/github/barriletecosmico12/PROGCOM-B/blob/main/clase_2_.ipynb\" target=\"_parent\"><img src=\"https://colab.research.google.com/assets/colab-badge.svg\" alt=\"Open In Colab\"/></a>"
      ]
    },
    {
      "cell_type": "markdown",
      "source": [
        "\n",
        "##Listas\n",
        "* son un conjunto de tipos de datos. **indexado** separado por comas y encerrado entre[]\n",
        "* todos los elementos de una lista se empizan a contar desde 0\n",
        "##creacion de listas\n",
        "* forma general:lista=[]\n",
        "* forma manual: animales=[\"gato\", \"perro\", \"zorro\"]\n",
        "* por conversion: numero=list(range(10))\n",
        "\n",
        "\n",
        "\n"
      ],
      "metadata": {
        "id": "BAWoRSi6yEXs"
      }
    },
    {
      "cell_type": "markdown",
      "source": [
        "1. lista=[]"
      ],
      "metadata": {
        "id": "AvtB-T3FzOlL"
      }
    },
    {
      "cell_type": "code",
      "source": [
        "lista=[]"
      ],
      "metadata": {
        "id": "BIvzCJUg0iy5"
      },
      "execution_count": 5,
      "outputs": []
    },
    {
      "cell_type": "code",
      "source": [
        "type(lista)"
      ],
      "metadata": {
        "colab": {
          "base_uri": "https://localhost:8080/"
        },
        "id": "mrdNT_MczRYr",
        "outputId": "73c40e20-2824-494f-ea0b-bd0b0bc0f9ea"
      },
      "execution_count": 6,
      "outputs": [
        {
          "output_type": "execute_result",
          "data": {
            "text/plain": [
              "list"
            ]
          },
          "metadata": {},
          "execution_count": 6
        }
      ]
    },
    {
      "cell_type": "code",
      "source": [
        " zorro=[1,2,3,4]\n",
        " animales=[\"gato\", \"perro\", zorro]\n",
        " animales"
      ],
      "metadata": {
        "colab": {
          "base_uri": "https://localhost:8080/"
        },
        "id": "OfEOHkV1zykb",
        "outputId": "71939025-0fec-42ff-dae5-8260e0472b00"
      },
      "execution_count": 8,
      "outputs": [
        {
          "output_type": "execute_result",
          "data": {
            "text/plain": [
              "['gato', 'perro', [1, 2, 3, 4]]"
            ]
          },
          "metadata": {},
          "execution_count": 8
        }
      ]
    },
    {
      "cell_type": "code",
      "source": [
        "type(zorro)"
      ],
      "metadata": {
        "colab": {
          "base_uri": "https://localhost:8080/"
        },
        "id": "PbseBH1cz_I7",
        "outputId": "2dae62e7-052e-4935-86b9-80166931cfb4"
      },
      "execution_count": 9,
      "outputs": [
        {
          "output_type": "execute_result",
          "data": {
            "text/plain": [
              "list"
            ]
          },
          "metadata": {},
          "execution_count": 9
        }
      ]
    },
    {
      "cell_type": "code",
      "source": [
        "numero=list(range(10))\n",
        "numero"
      ],
      "metadata": {
        "colab": {
          "base_uri": "https://localhost:8080/"
        },
        "id": "QP2Eiogn1KLi",
        "outputId": "b9a9e2e7-1bde-4a3b-fbe8-02104fa2f82b"
      },
      "execution_count": 10,
      "outputs": [
        {
          "output_type": "execute_result",
          "data": {
            "text/plain": [
              "[0, 1, 2, 3, 4, 5, 6, 7, 8, 9]"
            ]
          },
          "metadata": {},
          "execution_count": 10
        }
      ]
    },
    {
      "cell_type": "code",
      "source": [
        "range(10)"
      ],
      "metadata": {
        "colab": {
          "base_uri": "https://localhost:8080/"
        },
        "id": "Vjr9nzMw1SFR",
        "outputId": "a83b671e-8d00-49af-e85a-58ef31ba7b22"
      },
      "execution_count": 11,
      "outputs": [
        {
          "output_type": "execute_result",
          "data": {
            "text/plain": [
              "range(0, 10)"
            ]
          },
          "metadata": {},
          "execution_count": 11
        }
      ]
    },
    {
      "cell_type": "code",
      "source": [],
      "metadata": {
        "id": "Gr-6sML-1VmR"
      },
      "execution_count": null,
      "outputs": []
    },
    {
      "cell_type": "markdown",
      "source": [
        "##Estructura para - (for)\n",
        "\n",
        "se usa cuando:\n",
        "* se sabe **cuantas veces** se repite una acción.\n",
        "* Está compuesta por un contador y una condición.\n",
        "* **contador**: Identifica cuantas veces se va a repetir el bucle y con qué frecuencia.\n",
        "* **condición**: Evalua cuando se detiene.\n",
        "\n",
        "Por definición:\n",
        "\n",
        "\n",
        "\n",
        "```\n",
        "for variable in range(vi, vf+1,paso):\n",
        " aqui se repite parte del codigo\n",
        "```\n",
        "\n"
      ],
      "metadata": {
        "id": "sOj-aCPGppks"
      }
    },
    {
      "cell_type": "markdown",
      "source": [
        "donde\n",
        "1. vi: condicion inicial. donde arranco a contar\n",
        "2. vf+1: condicion final. donde dejo de contar+1\n",
        "3. paso: frecuencia de conteo\n",
        "\n",
        "for para recorrido de listas\n",
        "flor=[\"amapola\", \"tulipan\", \"rosa\"]\n",
        "* el para va a iterar tantas veces como elementos tenga la lista\n",
        "* la variable dentro del para toma como valor, ada elemento de la lista\n",
        "\n",
        "```\n",
        "for variable in lista:\n",
        "  variable\n",
        "```\n",
        "\n"
      ],
      "metadata": {
        "id": "iJ93bfdB1Djy"
      }
    },
    {
      "cell_type": "code",
      "source": [
        "#creando una lista de nombre flor\n",
        "flor=[\"amapola\", \"rosa\", \"tulipan\", \"orquidea\"]\n",
        "for flores in flor:\n",
        "  print(flores)\n",
        "  if flores==\"tulipan\":\n",
        "    break"
      ],
      "metadata": {
        "colab": {
          "base_uri": "https://localhost:8080/"
        },
        "id": "M1wUS5tM2uR5",
        "outputId": "2f8841be-83a0-4054-8ac0-6c288704ae8c"
      },
      "execution_count": 14,
      "outputs": [
        {
          "output_type": "stream",
          "name": "stdout",
          "text": [
            "amapola\n",
            "rosa\n",
            "tulipan\n"
          ]
        }
      ]
    },
    {
      "cell_type": "markdown",
      "source": [
        "##estructura while\n",
        "* se emplea cuando **no se sabe** cuantas veces debe repetir una accion, pero si se conoce su condicion de parada (CP).\n",
        "* condicion inicial: donde arranca el ciclo\n",
        "* condicion final (parada): que indica donde se detiene el ciclo\n",
        "* modificador de condicion inicial\n",
        "\n",
        "estructura general del mientras\n",
        "\n",
        "\n",
        "\n",
        "```\n",
        "condicion inicial\n",
        "while (condicion==condicion final):\n",
        "  modificador de condicion inicial\n",
        "```\n",
        "modificadores de condicion inicial\n",
        "* banderas: son booleanos\n",
        "* son preguntas\n",
        "* son contadores o acumuladores\n"
      ],
      "metadata": {
        "id": "_iyGneSv4hRP"
      }
    }
  ]
}