{
  "nbformat": 4,
  "nbformat_minor": 0,
  "metadata": {
    "colab": {
      "provenance": [],
      "authorship_tag": "ABX9TyPVxUoNkfi3JCM3Wk12cu/Y",
      "include_colab_link": true
    },
    "kernelspec": {
      "name": "python3",
      "display_name": "Python 3"
    },
    "language_info": {
      "name": "python"
    }
  },
  "cells": [
    {
      "cell_type": "markdown",
      "metadata": {
        "id": "view-in-github",
        "colab_type": "text"
      },
      "source": [
        "<a href=\"https://colab.research.google.com/github/barriletecosmico12/PROGCOM-B/blob/main/listastaller.ipynb\" target=\"_parent\"><img src=\"https://colab.research.google.com/assets/colab-badge.svg\" alt=\"Open In Colab\"/></a>"
      ]
    },
    {
      "cell_type": "code",
      "source": [
        "#1. Crear una lista con los cuadrados de los números del 1 al 10\n",
        "cuadrados = [num ** 2 for num in range(1,11)]\n",
        "cuadrados"
      ],
      "metadata": {
        "colab": {
          "base_uri": "https://localhost:8080/"
        },
        "id": "ld05l79sgrnR",
        "outputId": "2275b4aa-a825-43e4-d0bd-ddbb14c3047b"
      },
      "execution_count": 2,
      "outputs": [
        {
          "output_type": "execute_result",
          "data": {
            "text/plain": [
              "[1, 4, 9, 16, 25, 36, 49, 64, 81, 100]"
            ]
          },
          "metadata": {},
          "execution_count": 2
        }
      ]
    },
    {
      "cell_type": "code",
      "execution_count": 3,
      "metadata": {
        "colab": {
          "base_uri": "https://localhost:8080/"
        },
        "id": "u7SZkGmSf6w6",
        "outputId": "b02f709c-e744-44f1-e941-35156943f4a3"
      },
      "outputs": [
        {
          "output_type": "execute_result",
          "data": {
            "text/plain": [
              "[2, 4, 6, 8, 10, 12, 14, 16, 18, 20]"
            ]
          },
          "metadata": {},
          "execution_count": 3
        }
      ],
      "source": [
        "#2.Obtener una lista con los números pares del 0 al 20\n",
        "Pares = [num for num in range(1,21) if num%2 == 0]\n",
        "Pares"
      ]
    },
    {
      "cell_type": "code",
      "source": [
        "#3.Crear una lista con el doble de los números del 1 al 5\n",
        "NDoble = [num * 2 for num in range(1,6)]\n",
        "NDoble"
      ],
      "metadata": {
        "colab": {
          "base_uri": "https://localhost:8080/"
        },
        "id": "IhmTvQdkhWHE",
        "outputId": "0eadda46-a168-41f3-8028-17234a7ed762"
      },
      "execution_count": 4,
      "outputs": [
        {
          "output_type": "execute_result",
          "data": {
            "text/plain": [
              "[2, 4, 6, 8, 10]"
            ]
          },
          "metadata": {},
          "execution_count": 4
        }
      ]
    },
    {
      "cell_type": "code",
      "source": [
        "#4. De la palabra \"programacion\", obtener solo las vocales\n",
        "p = \"programacion\"\n",
        "vocales = [a for a in p if a in (\"a\", \"e\", \"i\", \"o\", \"u\")]\n",
        "vocales"
      ],
      "metadata": {
        "colab": {
          "base_uri": "https://localhost:8080/"
        },
        "id": "gHJWSlCrh1tQ",
        "outputId": "e1593408-9cb0-472f-88f3-bba4a7e78b43"
      },
      "execution_count": 8,
      "outputs": [
        {
          "output_type": "execute_result",
          "data": {
            "text/plain": [
              "['o', 'a', 'a', 'i', 'o']"
            ]
          },
          "metadata": {},
          "execution_count": 8
        }
      ]
    },
    {
      "cell_type": "code",
      "source": [
        "#5. Dada la lista [\"python\", \"java\", \"c++\"], obtener otra lista con las palabras en mayúsculas\n",
        "Programas = [\"python\", \"java\", \"c++\"]\n",
        "Mayus = [p.upper() for p in Programas]\n",
        "Mayus"
      ],
      "metadata": {
        "colab": {
          "base_uri": "https://localhost:8080/"
        },
        "id": "rSKW8xuMidBI",
        "outputId": "e302f7c8-2065-4d7f-aee0-4f681c262f47"
      },
      "execution_count": 14,
      "outputs": [
        {
          "output_type": "execute_result",
          "data": {
            "text/plain": [
              "['PYTHON', 'JAVA', 'C++']"
            ]
          },
          "metadata": {},
          "execution_count": 14
        }
      ]
    },
    {
      "cell_type": "code",
      "source": [
        "#6. Crear una lista con \"par\" o \"impar\" para los números del 1 al 10\n",
        "Lista = [1,2,3,4,5,6,7,8,9,10]\n",
        "clasificacion = [(num, \"par\") if num%2==0 else (num, \"impar\") for num in Lista]\n",
        "clasificacion"
      ],
      "metadata": {
        "colab": {
          "base_uri": "https://localhost:8080/"
        },
        "id": "HfZ-Xt3gjCZ1",
        "outputId": "1bbb8462-3d43-4a19-ab03-2649cfa462af"
      },
      "execution_count": 13,
      "outputs": [
        {
          "output_type": "execute_result",
          "data": {
            "text/plain": [
              "[(1, 'impar'),\n",
              " (2, 'par'),\n",
              " (3, 'impar'),\n",
              " (4, 'par'),\n",
              " (5, 'impar'),\n",
              " (6, 'par'),\n",
              " (7, 'impar'),\n",
              " (8, 'par'),\n",
              " (9, 'impar'),\n",
              " (10, 'par')]"
            ]
          },
          "metadata": {},
          "execution_count": 13
        }
      ]
    },
    {
      "cell_type": "code",
      "source": [
        "#7. Generar una lista de tuplas con el número y su cuadrado del 1 al 5\n",
        "Num = [1,2,3,4,5]\n",
        "t = [(i, \"su cuadrado es\" ,i**2 ) for i in Num]\n",
        "t"
      ],
      "metadata": {
        "colab": {
          "base_uri": "https://localhost:8080/"
        },
        "id": "efAVhRnTjrzL",
        "outputId": "e43ffacf-6d67-4cba-cf76-9c65f8356419"
      },
      "execution_count": 16,
      "outputs": [
        {
          "output_type": "execute_result",
          "data": {
            "text/plain": [
              "[(1, 'su cuadrado es', 1),\n",
              " (2, 'su cuadrado es', 4),\n",
              " (3, 'su cuadrado es', 9),\n",
              " (4, 'su cuadrado es', 16),\n",
              " (5, 'su cuadrado es', 25)]"
            ]
          },
          "metadata": {},
          "execution_count": 16
        }
      ]
    },
    {
      "cell_type": "code",
      "source": [
        "#8. Crear una lista con todas las combinaciones de letras en [\"a\",\"b\"] y números en [1,2,3]\n",
        "L = [\"a\",\"b\"]\n",
        "Num = [1,2,3]\n",
        "Combinacion = [(letra,Numero) for letra in L for Numero in Num]\n",
        "Combinacion"
      ],
      "metadata": {
        "colab": {
          "base_uri": "https://localhost:8080/"
        },
        "id": "AEhk1y5nk4TJ",
        "outputId": "9aeb439d-4e64-4abe-9eac-893d76a8b487"
      },
      "execution_count": 17,
      "outputs": [
        {
          "output_type": "execute_result",
          "data": {
            "text/plain": [
              "[('a', 1), ('a', 2), ('a', 3), ('b', 1), ('b', 2), ('b', 3)]"
            ]
          },
          "metadata": {},
          "execution_count": 17
        }
      ]
    },
    {
      "cell_type": "code",
      "source": [
        "#9. De la lista [\"sol\", \"estrella\", \"mar\", \"planeta\"], obtener solo las palabras con más de 4 letras\n",
        "p =[\"sol\", \"estrella\", \"mar\", \"planeta\"]\n",
        "cuatroletras = [i for i in p if len(i) > 4]\n",
        "cuatroletras"
      ],
      "metadata": {
        "colab": {
          "base_uri": "https://localhost:8080/"
        },
        "id": "wOvOhNOgla6e",
        "outputId": "aa5850d0-9117-47f6-c438-85290cdba6e2"
      },
      "execution_count": 21,
      "outputs": [
        {
          "output_type": "execute_result",
          "data": {
            "text/plain": [
              "['estrella', 'planeta']"
            ]
          },
          "metadata": {},
          "execution_count": 21
        }
      ]
    },
    {
      "cell_type": "code",
      "source": [
        "#10.Clasificar la temperatura de una lista. Si la temperatura es menor a 26, el clima es \"frío\". Si está entre 26 a 29, es \"templado\". Si es mayor a 29, el clima es \"caliente\"\n",
        "temp=list(range(1,40))\n",
        "clasf=[(i, \"frio\") if i<26 else (i, \"templado\") if i>=26 and i<=29 else (i, \"caliente\") for i in temp]\n",
        "clasf"
      ],
      "metadata": {
        "colab": {
          "base_uri": "https://localhost:8080/"
        },
        "id": "fienY91smAt9",
        "outputId": "c08bc078-46c1-4bb5-94a7-7d3f27c1c31a"
      },
      "execution_count": 24,
      "outputs": [
        {
          "output_type": "execute_result",
          "data": {
            "text/plain": [
              "[(1, 'frio'),\n",
              " (2, 'frio'),\n",
              " (3, 'frio'),\n",
              " (4, 'frio'),\n",
              " (5, 'frio'),\n",
              " (6, 'frio'),\n",
              " (7, 'frio'),\n",
              " (8, 'frio'),\n",
              " (9, 'frio'),\n",
              " (10, 'frio'),\n",
              " (11, 'frio'),\n",
              " (12, 'frio'),\n",
              " (13, 'frio'),\n",
              " (14, 'frio'),\n",
              " (15, 'frio'),\n",
              " (16, 'frio'),\n",
              " (17, 'frio'),\n",
              " (18, 'frio'),\n",
              " (19, 'frio'),\n",
              " (20, 'frio'),\n",
              " (21, 'frio'),\n",
              " (22, 'frio'),\n",
              " (23, 'frio'),\n",
              " (24, 'frio'),\n",
              " (25, 'frio'),\n",
              " (26, 'templado'),\n",
              " (27, 'templado'),\n",
              " (28, 'templado'),\n",
              " (29, 'templado'),\n",
              " (30, 'caliente'),\n",
              " (31, 'caliente'),\n",
              " (32, 'caliente'),\n",
              " (33, 'caliente'),\n",
              " (34, 'caliente'),\n",
              " (35, 'caliente'),\n",
              " (36, 'caliente'),\n",
              " (37, 'caliente'),\n",
              " (38, 'caliente'),\n",
              " (39, 'caliente')]"
            ]
          },
          "metadata": {},
          "execution_count": 24
        }
      ]
    }
  ]
}