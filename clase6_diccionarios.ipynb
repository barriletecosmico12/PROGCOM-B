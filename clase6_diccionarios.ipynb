{
  "nbformat": 4,
  "nbformat_minor": 0,
  "metadata": {
    "colab": {
      "provenance": [],
      "include_colab_link": true
    },
    "kernelspec": {
      "name": "python3",
      "display_name": "Python 3"
    },
    "language_info": {
      "name": "python"
    }
  },
  "cells": [
    {
      "cell_type": "markdown",
      "metadata": {
        "id": "view-in-github",
        "colab_type": "text"
      },
      "source": [
        "<a href=\"https://colab.research.google.com/github/barriletecosmico12/PROGCOM-B/blob/main/clase6_diccionarios.ipynb\" target=\"_parent\"><img src=\"https://colab.research.google.com/assets/colab-badge.svg\" alt=\"Open In Colab\"/></a>"
      ]
    },
    {
      "cell_type": "markdown",
      "source": [
        "##Diccionarios\n",
        "Estructura de datos que almacena valores\n",
        "\n",
        "sintaxis:\n",
        "\n",
        "```\n",
        "nombre_diccionario={\"llave\":valor}\n",
        "```\n",
        "*La llave: **SIEMPRE** tiene que ser alfanumérica\n",
        "*Valor: Cualquier tipo de dato\n"
      ],
      "metadata": {
        "id": "9Mkzm55dauyS"
      }
    },
    {
      "cell_type": "markdown",
      "source": [
        "Los diccionarios **NO** tienen indexación"
      ],
      "metadata": {
        "id": "W80Naa3KdDLv"
      }
    },
    {
      "cell_type": "code",
      "execution_count": null,
      "metadata": {
        "id": "QVqrqQPAYeON"
      },
      "outputs": [],
      "source": [
        "liga_justicia={\"superheroes\":[\"Batman\",\"Superman\",\"WonderWoman\"],\"identidades\":[\"Bruce\",\"Clark\",\"Diana\"]}"
      ]
    },
    {
      "cell_type": "code",
      "source": [
        "liga_villanos={\"villanos\":[\"Jocker\",\"Lex\",\"Pinguino\"],\"identidades\":[\"Bruce\",\"Clark\",\"Diana\"]}"
      ],
      "metadata": {
        "id": "RNWn2ipWi1gD"
      },
      "execution_count": null,
      "outputs": []
    },
    {
      "cell_type": "code",
      "source": [
        "type(liga_justicia)"
      ],
      "metadata": {
        "colab": {
          "base_uri": "https://localhost:8080/"
        },
        "id": "ucO6Zcx6cAIO",
        "outputId": "4de695dc-3505-4c76-c6ce-3159befff56c"
      },
      "execution_count": null,
      "outputs": [
        {
          "output_type": "execute_result",
          "data": {
            "text/plain": [
              "dict"
            ]
          },
          "metadata": {},
          "execution_count": 54
        }
      ]
    },
    {
      "cell_type": "code",
      "source": [
        "#ERROR no es indexación\n",
        "liga_justicia{}"
      ],
      "metadata": {
        "colab": {
          "base_uri": "https://localhost:8080/",
          "height": 106
        },
        "id": "B-wSE07QdVLH",
        "outputId": "5ceed892-9fbb-455b-83c0-33df96c31370"
      },
      "execution_count": null,
      "outputs": [
        {
          "output_type": "error",
          "ename": "SyntaxError",
          "evalue": "invalid syntax (ipython-input-2810998822.py, line 2)",
          "traceback": [
            "\u001b[0;36m  File \u001b[0;32m\"/tmp/ipython-input-2810998822.py\"\u001b[0;36m, line \u001b[0;32m2\u001b[0m\n\u001b[0;31m    liga_justicia{}\u001b[0m\n\u001b[0m                 ^\u001b[0m\n\u001b[0;31mSyntaxError\u001b[0m\u001b[0;31m:\u001b[0m invalid syntax\n"
          ]
        }
      ]
    },
    {
      "cell_type": "code",
      "source": [
        "liga_justicia[\"superheroes\"]"
      ],
      "metadata": {
        "colab": {
          "base_uri": "https://localhost:8080/"
        },
        "id": "KECm1V5PdNfX",
        "outputId": "5fa9f0f1-a5ec-436c-8e0c-9f66d50136ef"
      },
      "execution_count": null,
      "outputs": [
        {
          "output_type": "execute_result",
          "data": {
            "text/plain": [
              "['Batman', 'Superman', 'WonderWoman']"
            ]
          },
          "metadata": {},
          "execution_count": 11
        }
      ]
    },
    {
      "cell_type": "code",
      "source": [
        "liga_justicia[\"identidades\"][2]"
      ],
      "metadata": {
        "colab": {
          "base_uri": "https://localhost:8080/",
          "height": 35
        },
        "id": "5-YFo6jrdnAf",
        "outputId": "078a3ca8-cced-4c4e-bf0e-0cf958fd7999"
      },
      "execution_count": null,
      "outputs": [
        {
          "output_type": "execute_result",
          "data": {
            "text/plain": [
              "'Diana'"
            ],
            "application/vnd.google.colaboratory.intrinsic+json": {
              "type": "string"
            }
          },
          "metadata": {},
          "execution_count": 10
        }
      ]
    },
    {
      "cell_type": "markdown",
      "source": [
        "#Funciones asociadas a los diccionarios"
      ],
      "metadata": {
        "id": "NOEWkJZxeiWh"
      }
    },
    {
      "cell_type": "markdown",
      "source": [
        "##1. Clear():\n",
        "Elimina todos los elementos del diccionario\n",
        "\n",
        "Sintaxis:\n",
        "\n",
        "```\n",
        "diccionario.clear(llave)\n",
        "```\n",
        "\n"
      ],
      "metadata": {
        "id": "N_A29N8CgWht"
      }
    },
    {
      "cell_type": "code",
      "source": [
        "liga_justicia.clear()\n",
        "liga_justicia"
      ],
      "metadata": {
        "id": "QQ75KvQHeoYO"
      },
      "execution_count": null,
      "outputs": []
    },
    {
      "cell_type": "markdown",
      "source": [
        "##2. Pop():\n",
        "Elimina el elemento que está entre paréntesis\n",
        "\n",
        "Sintaxis:\n",
        "```\n",
        "diccionario.clear(llave)\n",
        "```\n",
        "\n"
      ],
      "metadata": {
        "id": "UnqMuYIahLS7"
      }
    },
    {
      "cell_type": "code",
      "source": [
        "liga_justicia.pop(\"superheroes\")\n",
        "liga_justicia"
      ],
      "metadata": {
        "colab": {
          "base_uri": "https://localhost:8080/"
        },
        "id": "9uWX7bIvhHOt",
        "outputId": "58c9ebba-0908-47e5-f6f8-6fdd10ae762a"
      },
      "execution_count": null,
      "outputs": [
        {
          "output_type": "execute_result",
          "data": {
            "text/plain": [
              "{'identidades': ['Bruce', 'Clark', 'Diana']}"
            ]
          },
          "metadata": {},
          "execution_count": 32
        }
      ]
    },
    {
      "cell_type": "markdown",
      "source": [
        "##3. Values():\n",
        "Imprime todos los valores del diccionario sin su respectiva clasificación.\n",
        "\n",
        "```\n",
        "diccionario.values()\n",
        "```\n",
        "\n"
      ],
      "metadata": {
        "id": "TNNSd-shh9sF"
      }
    },
    {
      "cell_type": "code",
      "source": [
        "liga_justicia.values()"
      ],
      "metadata": {
        "colab": {
          "base_uri": "https://localhost:8080/"
        },
        "id": "n1yGdt9Mhssr",
        "outputId": "330733de-6c15-4fa5-b9ed-25e08c7c0e70"
      },
      "execution_count": null,
      "outputs": [
        {
          "output_type": "execute_result",
          "data": {
            "text/plain": [
              "dict_values([['Batman', 'Superman', 'WonderWoman'], ['Bruce', 'Clark', 'Diana']])"
            ]
          },
          "metadata": {},
          "execution_count": 55
        }
      ]
    },
    {
      "cell_type": "markdown",
      "source": [
        "##4. Update():\n",
        "\n",
        "Actualiza el diccionario solicitado, agregándole el diccionario que se escribe entre paréntesis.\n",
        "\n",
        "Sintaxis:\n",
        "\n",
        "```\n",
        "diccionario1.update(diccionario2)\n",
        "```\n",
        "\n",
        "\n"
      ],
      "metadata": {
        "id": "NSKGbGlviSYT"
      }
    },
    {
      "cell_type": "code",
      "source": [
        "liga_justicia.update(liga_villanos)\n",
        "liga_justicia"
      ],
      "metadata": {
        "colab": {
          "base_uri": "https://localhost:8080/"
        },
        "id": "so_AHgvPitFi",
        "outputId": "471e4fcb-6201-42f4-c232-2e161d9c512c"
      },
      "execution_count": null,
      "outputs": [
        {
          "output_type": "execute_result",
          "data": {
            "text/plain": [
              "{'superheroes': ['Batman', 'Superman', 'WonderWoman'],\n",
              " 'identidades': ['Bruce', 'Clark', 'Diana'],\n",
              " 'villanos': ['Jocker', 'Lex', 'Pinguino']}"
            ]
          },
          "metadata": {},
          "execution_count": 46
        }
      ]
    },
    {
      "cell_type": "markdown",
      "source": [
        "##5. Copy():\n",
        "Copia y agrega un segundo diccionario al diccionario solicitado\n",
        "\n",
        "\n",
        "```\n",
        "diccionario1=diccionario2.copy()\n",
        "```\n",
        "\n"
      ],
      "metadata": {
        "id": "ZFQI4UW7lqGp"
      }
    },
    {
      "cell_type": "code",
      "source": [
        "liga_villanos={}\n",
        "liga_villanos=liga_justicia.copy()\n",
        "liga_villanos"
      ],
      "metadata": {
        "colab": {
          "base_uri": "https://localhost:8080/"
        },
        "id": "mFejwDdjlzgh",
        "outputId": "05aab9c8-832c-43e7-dd58-09fce6419d4b"
      },
      "execution_count": null,
      "outputs": [
        {
          "output_type": "execute_result",
          "data": {
            "text/plain": [
              "{'superheroes': ['Batman', 'Superman', 'WonderWoman'],\n",
              " 'identidades': ['Bruce', 'Clark', 'Diana'],\n",
              " 'villanos': ['Jocker', 'Lex', 'Pinguino']}"
            ]
          },
          "metadata": {},
          "execution_count": 49
        }
      ]
    },
    {
      "cell_type": "markdown",
      "source": [
        "##6. Fromkeys\n",
        "\n",
        "```\n",
        "# Esto tiene formato de código\n",
        "```\n",
        "crea un nuevo diccionario a partir de llaves"
      ],
      "metadata": {
        "id": "cODHDOYepC02"
      }
    },
    {
      "cell_type": "code",
      "source": [
        "marvel_superhéroes=[\"ironman\",\"spiderman\",\"capitán américa\"]\n",
        "edad=33\n",
        "marvelitas=dict.fromkeys(marvel_superhéroes,edad)\n",
        "marvelitas"
      ],
      "metadata": {
        "id": "rq2engSYtUX8"
      },
      "execution_count": null,
      "outputs": []
    },
    {
      "cell_type": "markdown",
      "source": [
        "##7.get\n",
        "\n",
        "extrae los elementos de cada llave\n",
        "```\n",
        "# Esto tiene formato de código\n",
        "```\n",
        "liga_justicia.get()"
      ],
      "metadata": {
        "id": "iz-s2aUgtZKa"
      }
    },
    {
      "cell_type": "code",
      "source": [
        "liga_justicia"
      ],
      "metadata": {
        "colab": {
          "base_uri": "https://localhost:8080/"
        },
        "outputId": "1ce14ec7-5f1f-4337-9acb-24f4789bafac",
        "id": "J-Qu3SMXpn1e"
      },
      "execution_count": null,
      "outputs": [
        {
          "output_type": "execute_result",
          "data": {
            "text/plain": [
              "{'superheroes': ['Batman', 'Superman', 'WonderWoman'],\n",
              " 'identidades': ['Bruce', 'Clark', 'Diana']}"
            ]
          },
          "metadata": {},
          "execution_count": 56
        }
      ]
    },
    {
      "cell_type": "code",
      "source": [
        "liga_justicia.get(\"superheroes\")"
      ],
      "metadata": {
        "colab": {
          "base_uri": "https://localhost:8080/"
        },
        "id": "_0Y71ZSwp4fF",
        "outputId": "20855a1c-b565-483a-871d-e8f5b461d8f5"
      },
      "execution_count": null,
      "outputs": [
        {
          "output_type": "execute_result",
          "data": {
            "text/plain": [
              "['Batman', 'Superman', 'WonderWoman']"
            ]
          },
          "metadata": {},
          "execution_count": 57
        }
      ]
    },
    {
      "cell_type": "markdown",
      "source": [
        "# 8. popitem\n",
        "\n",
        "\n",
        "```\n",
        "diccionario.popitem()\n",
        "```\n",
        "Elimina llaves de un diccionario."
      ],
      "metadata": {
        "id": "KGvSmqvWuLHZ"
      }
    },
    {
      "cell_type": "code",
      "source": [
        "liga_justicia"
      ],
      "metadata": {
        "colab": {
          "base_uri": "https://localhost:8080/"
        },
        "id": "dAvKZj5Ioygn",
        "outputId": "39d3fdf4-7417-477b-ba4a-e14face7d120"
      },
      "execution_count": null,
      "outputs": [
        {
          "output_type": "execute_result",
          "data": {
            "text/plain": [
              "{'superheroes': ['Batman', 'Superman', 'WonderWoman'],\n",
              " 'identidades': ['Bruce', 'Clark', 'Diana']}"
            ]
          },
          "metadata": {},
          "execution_count": 60
        }
      ]
    },
    {
      "cell_type": "code",
      "source": [
        "liga_justicia"
      ],
      "metadata": {
        "colab": {
          "base_uri": "https://localhost:8080/"
        },
        "id": "A8D_mzrqmxqx",
        "outputId": "807b2288-fd21-4e1c-868d-4994e334236e"
      },
      "execution_count": null,
      "outputs": [
        {
          "output_type": "execute_result",
          "data": {
            "text/plain": [
              "{'superheroes': ['Batman', 'Superman', 'WonderWoman'],\n",
              " 'identidades': ['Bruce', 'Clark', 'Diana']}"
            ]
          },
          "metadata": {},
          "execution_count": 59
        }
      ]
    },
    {
      "cell_type": "markdown",
      "source": [
        "#9. keys\n",
        "\n",
        "\n",
        "\n",
        "```\n",
        "diccionario.keys()\n",
        "```\n",
        "\n",
        " Muestra las llaves que se le agregan al dicciomario"
      ],
      "metadata": {
        "id": "xk3FbUJDuYiq"
      }
    },
    {
      "cell_type": "code",
      "source": [
        "liga_justicia.keys()"
      ],
      "metadata": {
        "colab": {
          "base_uri": "https://localhost:8080/"
        },
        "id": "Yl_-3BdIphfm",
        "outputId": "c94591a5-3729-4494-8d34-c79eb614ed99"
      },
      "execution_count": null,
      "outputs": [
        {
          "output_type": "execute_result",
          "data": {
            "text/plain": [
              "dict_keys(['superheroes', 'identidades'])"
            ]
          },
          "metadata": {},
          "execution_count": 81
        }
      ]
    },
    {
      "cell_type": "code",
      "source": [
        "liga_justicia"
      ],
      "metadata": {
        "colab": {
          "base_uri": "https://localhost:8080/"
        },
        "id": "OfNcb5-Lp_pW",
        "outputId": "c847830d-ec48-43fa-8958-8fe1a0905134"
      },
      "execution_count": null,
      "outputs": [
        {
          "output_type": "execute_result",
          "data": {
            "text/plain": [
              "{'superheroes': ['batman', 'superman', 'wonderwoman'],\n",
              " 'identidades': ['bruce wayne', 'clark kent', 'diana prince']}"
            ]
          },
          "metadata": {},
          "execution_count": 82
        }
      ]
    },
    {
      "cell_type": "markdown",
      "source": [
        "##10 items\n",
        "\n",
        "nos indica a detalle todos los componentes incluidos en el diccionario\n",
        "\n",
        "sintaxis\n",
        "\n",
        "```\n",
        "diccionario.items()\n",
        "```\n",
        "\n"
      ],
      "metadata": {
        "id": "dkqe2kYTuhSp"
      }
    },
    {
      "cell_type": "code",
      "source": [
        "liga_justicia.items()"
      ],
      "metadata": {
        "colab": {
          "base_uri": "https://localhost:8080/"
        },
        "id": "mAulJ_2AutEr",
        "outputId": "9740ba32-9b66-4784-ed38-349af7fd7944"
      },
      "execution_count": null,
      "outputs": [
        {
          "output_type": "execute_result",
          "data": {
            "text/plain": [
              "dict_items([('superheroes', ['Batman', 'Superman', 'WonderWoman']), ('identidades', ['Bruce', 'Clark', 'Diana'])])"
            ]
          },
          "metadata": {},
          "execution_count": 61
        }
      ]
    },
    {
      "cell_type": "markdown",
      "source": [
        "##11.setdefault\n",
        "\n",
        "Devuelve el valor de una clave si existe; si no, la crea con un valor por defecto y lo devuelve.\n",
        "\n",
        "sintaxis\n",
        "\n",
        "\n",
        "```\n",
        "diccionario.setdafult()\n",
        "```\n",
        "\n"
      ],
      "metadata": {
        "id": "dzrE6zcgu46p"
      }
    },
    {
      "cell_type": "code",
      "source": [
        "liga_justicia.setdefault(\"superheroes\")"
      ],
      "metadata": {
        "colab": {
          "base_uri": "https://localhost:8080/"
        },
        "id": "OvI8US2Yu0iA",
        "outputId": "1724a207-62c8-4a33-fc78-f3b06606b25f"
      },
      "execution_count": null,
      "outputs": [
        {
          "output_type": "execute_result",
          "data": {
            "text/plain": [
              "['Batman', 'Superman', 'WonderWoman']"
            ]
          },
          "metadata": {},
          "execution_count": 65
        }
      ]
    }
  ]
}