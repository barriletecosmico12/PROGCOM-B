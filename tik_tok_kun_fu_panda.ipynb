{
  "nbformat": 4,
  "nbformat_minor": 0,
  "metadata": {
    "colab": {
      "provenance": [],
      "include_colab_link": true
    },
    "kernelspec": {
      "name": "python3",
      "display_name": "Python 3"
    },
    "language_info": {
      "name": "python"
    }
  },
  "cells": [
    {
      "cell_type": "markdown",
      "metadata": {
        "id": "view-in-github",
        "colab_type": "text"
      },
      "source": [
        "<a href=\"https://colab.research.google.com/github/barriletecosmico12/PROGCOM-B/blob/main/tik_tok_kun_fu_panda.ipynb\" target=\"_parent\"><img src=\"https://colab.research.google.com/assets/colab-badge.svg\" alt=\"Open In Colab\"/></a>"
      ]
    },
    {
      "cell_type": "code",
      "source": [
        "def pose_inicial (a,b):\n",
        "  for i in range (a):\n",
        "    print (f\"estamos todos tiesos\")"
      ],
      "metadata": {
        "id": "OVhuUfIDozEn"
      },
      "execution_count": null,
      "outputs": []
    },
    {
      "cell_type": "code",
      "source": [
        "pose_inicial(1,1)"
      ],
      "metadata": {
        "colab": {
          "base_uri": "https://localhost:8080/"
        },
        "id": "SWjs72Mfo2_W",
        "outputId": "1cd80ef1-ba08-4204-b5ef-1c622e0b96d7"
      },
      "execution_count": null,
      "outputs": [
        {
          "output_type": "stream",
          "name": "stdout",
          "text": [
            "estamos todos tiesos\n"
          ]
        }
      ]
    },
    {
      "cell_type": "code",
      "source": [
        "def movimiento_de_piernas (a,b):\n",
        "  for i in range (a):\n",
        "    print ((f\"todos hacemos paso cruzado con la pierna izquierda alfrente \"))\n",
        "    for i in range (a):\n",
        "        print ((f\"todos alzamos la pierna derecha y alzamos brazos\"))\n",
        "        for i in range (a):\n",
        "          print ((f\"todos hacemos paso cruzado con la pierna izquierda atras bajando brazos\"))\n",
        "        for i in range (a):\n",
        "          print ((f\"todos hacemos paso cruzado alfrente alando brazos\"))\n"
      ],
      "metadata": {
        "id": "or_c5Fpuo8bO"
      },
      "execution_count": null,
      "outputs": []
    },
    {
      "cell_type": "code",
      "source": [
        "movimiento_de_piernas (1,1)"
      ],
      "metadata": {
        "colab": {
          "base_uri": "https://localhost:8080/"
        },
        "id": "UxSxj0CupAke",
        "outputId": "77ee7a9d-fd77-4020-c0fe-75aaa366c593"
      },
      "execution_count": null,
      "outputs": [
        {
          "output_type": "stream",
          "name": "stdout",
          "text": [
            "todos hacemos paso cruzado con la pierna izquierda alfrente \n",
            "todos alzamos la pierna derecha y alzamos brazos\n",
            "todos hacemos paso cruzado con la pierna izquierda atras bajando brazos\n",
            "todos hacemos paso cruzado alfrente alando brazos\n"
          ]
        }
      ]
    },
    {
      "cell_type": "code",
      "source": [
        "\n",
        "def patada_corta (a,b):\n",
        "  for i in range (a):\n",
        "    print ((f\"todos hacemos una patada hacia adelante alzando la pierna izquierda, con el brazo derecho doblado y extendiendo el brazo derecho hacia la izquierda\"))\n"
      ],
      "metadata": {
        "id": "9etx9OKvpbjm"
      },
      "execution_count": null,
      "outputs": []
    },
    {
      "cell_type": "code",
      "source": [
        "patada_corta (1,1)"
      ],
      "metadata": {
        "colab": {
          "base_uri": "https://localhost:8080/"
        },
        "id": "95hR8EGOpgTO",
        "outputId": "d5047fe3-8901-4f86-aa19-e5b7d132f86b"
      },
      "execution_count": null,
      "outputs": [
        {
          "output_type": "stream",
          "name": "stdout",
          "text": [
            "todos hacemos una patada hacia adelante alzando la pierna izquierda, con el brazo derecho doblado y extendiendo el brazo derecho hacia la izquierda\n"
          ]
        }
      ]
    },
    {
      "cell_type": "code",
      "source": [
        "def pasito (a,b) :\n",
        "  for i in range (a):\n",
        "    print(\"pasito a la derecha \")\n",
        "    for i in range(b):\n",
        "        print(\"pasitohacia la izquierda\")"
      ],
      "metadata": {
        "id": "xhgLVcWVqs31"
      },
      "execution_count": null,
      "outputs": []
    },
    {
      "cell_type": "code",
      "source": [
        "pasito(1,1)\n",
        "pasito(1,1)\n",
        "pasito(1,1)"
      ],
      "metadata": {
        "colab": {
          "base_uri": "https://localhost:8080/"
        },
        "id": "0_TSEsCGrHFN",
        "outputId": "f118f943-1df8-4b1c-8d15-b92d7e8a5db0"
      },
      "execution_count": null,
      "outputs": [
        {
          "output_type": "stream",
          "name": "stdout",
          "text": [
            "pasito a la derecha \n",
            "pasitohacia la izquierda\n",
            "pasito a la derecha \n",
            "pasitohacia la izquierda\n",
            "pasito a la derecha \n",
            "pasitohacia la izquierda\n"
          ]
        }
      ]
    },
    {
      "cell_type": "code",
      "source": [
        "def patada_puno(a,b) :\n",
        "  for j in range(b):\n",
        "      for i in range(a):\n",
        "        print(\"patada\")\n",
        "      for i in range(a):\n",
        "        print(\"lanzar el puño\")"
      ],
      "metadata": {
        "id": "X_vgGwm5rSwE"
      },
      "execution_count": null,
      "outputs": []
    },
    {
      "cell_type": "code",
      "source": [
        "patada_puno(1,1)\n",
        "patada_puno(1,1)\n",
        "patada_puno(1,1)\n",
        "patada_puno(1,1)\n",
        "patada_puno(1,1)"
      ],
      "metadata": {
        "colab": {
          "base_uri": "https://localhost:8080/"
        },
        "id": "-P4TGVFgrVak",
        "outputId": "6caf4cfe-99c4-48af-8876-e3c90b95f254"
      },
      "execution_count": null,
      "outputs": [
        {
          "output_type": "stream",
          "name": "stdout",
          "text": [
            "patada\n",
            "lanzar el puño\n",
            "patada\n",
            "lanzar el puño\n",
            "patada\n",
            "lanzar el puño\n",
            "patada\n",
            "lanzar el puño\n",
            "patada\n",
            "lanzar el puño\n"
          ]
        }
      ]
    },
    {
      "cell_type": "code",
      "source": [
        "def girar_cabeza(a,b):\n",
        "  for i in range(a):\n",
        "    print(f\"cruzar las piernas con los brazos abiertos\")\n",
        "    print(f\"girar la cabeza a la derecha\")"
      ],
      "metadata": {
        "id": "kgfbtku_rZYE"
      },
      "execution_count": null,
      "outputs": []
    },
    {
      "cell_type": "code",
      "source": [
        "girar_cabeza(1,1)"
      ],
      "metadata": {
        "colab": {
          "base_uri": "https://localhost:8080/"
        },
        "id": "0c0FImLbrgR0",
        "outputId": "cdecc5e3-1f7d-45eb-c7c6-b1636da79baa"
      },
      "execution_count": null,
      "outputs": [
        {
          "output_type": "stream",
          "name": "stdout",
          "text": [
            "cruzar las piernas con los brazos abiertos\n",
            "girar la cabeza a la derecha\n"
          ]
        }
      ]
    },
    {
      "cell_type": "code",
      "execution_count": null,
      "metadata": {
        "id": "vfEMpbs3iJfO"
      },
      "outputs": [],
      "source": [
        "def paso7 (a,b):\n",
        "    for i in range (a):\n",
        "        print(\"Pasito a la derecha\")\n",
        "        for i in range(b):\n",
        "            print(\"Pasito a la izquierda\")"
      ]
    },
    {
      "cell_type": "code",
      "source": [
        "paso7(1,1)\n",
        "paso7(1,1)\n",
        "paso7(1,1)"
      ],
      "metadata": {
        "colab": {
          "base_uri": "https://localhost:8080/"
        },
        "id": "FteDABh3kRKq",
        "outputId": "7befd387-57af-4e90-92c9-65c4a94db0d1"
      },
      "execution_count": null,
      "outputs": [
        {
          "output_type": "stream",
          "name": "stdout",
          "text": [
            "Pasito a la derecha\n",
            "Pasito a la izquierda\n",
            "Pasito a la derecha\n",
            "Pasito a la izquierda\n",
            "Pasito a la derecha\n",
            "Pasito a la izquierda\n"
          ]
        }
      ]
    },
    {
      "cell_type": "code",
      "source": [
        "def paso8 (a,b):\n",
        "    for i in range (a):\n",
        "        print(\"cierro las piernas\")\n",
        "        for i in range(b):\n",
        "            print(\"abro las piernas\")"
      ],
      "metadata": {
        "id": "b57H7aoelVMC"
      },
      "execution_count": null,
      "outputs": []
    },
    {
      "cell_type": "code",
      "source": [
        "paso8(1,1)\n",
        "paso8(1,1)\n",
        "paso8(1,1)"
      ],
      "metadata": {
        "colab": {
          "base_uri": "https://localhost:8080/"
        },
        "id": "fvi68pDSmJHx",
        "outputId": "ee67b723-4d51-4c82-f24a-d4d781ce251c"
      },
      "execution_count": null,
      "outputs": [
        {
          "output_type": "stream",
          "name": "stdout",
          "text": [
            "cierro las piernas\n",
            "abro las piernas\n",
            "cierro las piernas\n",
            "abro las piernas\n",
            "cierro las piernas\n",
            "abro las piernas\n"
          ]
        }
      ]
    },
    {
      "cell_type": "code",
      "source": [
        "def paso9 (a,b):\n",
        "    for i in range (a):\n",
        "        print(\"Levanto el brazo derecho y la pierna izquierda\")"
      ],
      "metadata": {
        "id": "XvTZtQxqmf6w"
      },
      "execution_count": null,
      "outputs": []
    },
    {
      "cell_type": "code",
      "source": [
        "paso9(1,1)"
      ],
      "metadata": {
        "colab": {
          "base_uri": "https://localhost:8080/"
        },
        "id": "ytWjqtScm3mQ",
        "outputId": "a413d01d-8783-481a-ca10-eacfc1cb3ca0"
      },
      "execution_count": null,
      "outputs": [
        {
          "output_type": "stream",
          "name": "stdout",
          "text": [
            "Levanto el brazo derecho y la pierna izquierda\n"
          ]
        }
      ]
    },
    {
      "cell_type": "code",
      "source": [
        "def pasitoizq(a,b):\n",
        "  for j in range(b):\n",
        "    for i in range(a):\n",
        "      print(\"saltico a la derecha hacia adelante\")\n",
        "    for i in range(a):\n",
        "      print(\"pasito a la izquierda hacia adelante\")"
      ],
      "metadata": {
        "id": "Z6T3GezCrjik"
      },
      "execution_count": null,
      "outputs": []
    },
    {
      "cell_type": "code",
      "source": [
        "pasitoizq(1,3)"
      ],
      "metadata": {
        "colab": {
          "base_uri": "https://localhost:8080/"
        },
        "id": "fXcNriYirmo8",
        "outputId": "9cba5d7b-c652-40d5-e8de-664206373f97"
      },
      "execution_count": null,
      "outputs": [
        {
          "output_type": "stream",
          "name": "stdout",
          "text": [
            "saltico a la derecha hacia adelante\n",
            "pasito a la izquierda hacia adelante\n",
            "saltico a la derecha hacia adelante\n",
            "pasito a la izquierda hacia adelante\n",
            "saltico a la derecha hacia adelante\n",
            "pasito a la izquierda hacia adelante\n"
          ]
        }
      ]
    },
    {
      "cell_type": "code",
      "source": [
        "def meneadito(a,b):\n",
        "  for j in range(b):\n",
        "    for i in range(a):\n",
        "      print(\"pasito a la derecha\")\n",
        "    for i in range(a):\n",
        "      print(\"pasito a la izquierda \")\n",
        "    for i in range(a):\n",
        "      print(\"mueve cadera\")"
      ],
      "metadata": {
        "id": "c2WxaUuSrshk"
      },
      "execution_count": null,
      "outputs": []
    },
    {
      "cell_type": "code",
      "source": [
        "meneadito(1,3)"
      ],
      "metadata": {
        "colab": {
          "base_uri": "https://localhost:8080/"
        },
        "id": "mRLGkjj7rwB1",
        "outputId": "713caad7-6d57-409f-db15-2a4f75062986"
      },
      "execution_count": null,
      "outputs": [
        {
          "output_type": "stream",
          "name": "stdout",
          "text": [
            "pasito a la derecha\n",
            "pasito a la izquierda \n",
            "mueve cadera\n",
            "pasito a la derecha\n",
            "pasito a la izquierda \n",
            "mueve cadera\n",
            "pasito a la derecha\n",
            "pasito a la izquierda \n",
            "mueve cadera\n"
          ]
        }
      ]
    },
    {
      "cell_type": "code",
      "source": [
        "def hulk(a,b):\n",
        "  for j in range(b):\n",
        "    for i in range(a):\n",
        "      print(\"sube y abre brazos\")\n",
        "    for i in range(a):\n",
        "      print(\"baja y cruza brazos \")"
      ],
      "metadata": {
        "id": "C5yjmo7vr0BM"
      },
      "execution_count": null,
      "outputs": []
    },
    {
      "cell_type": "code",
      "source": [
        "hulk(1,1)"
      ],
      "metadata": {
        "colab": {
          "base_uri": "https://localhost:8080/"
        },
        "id": "_7a81aPsr1RU",
        "outputId": "7354ba7c-2be0-408d-de89-4c85ec254450"
      },
      "execution_count": null,
      "outputs": [
        {
          "output_type": "stream",
          "name": "stdout",
          "text": [
            "sube y abre brazos\n",
            "baja y cruza brazos \n"
          ]
        }
      ]
    }
  ]
}