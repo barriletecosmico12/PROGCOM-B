{
  "nbformat": 4,
  "nbformat_minor": 0,
  "metadata": {
    "colab": {
      "provenance": [],
      "authorship_tag": "ABX9TyNJFpBbTgKu+kJJJzpA9iNS",
      "include_colab_link": true
    },
    "kernelspec": {
      "name": "python3",
      "display_name": "Python 3"
    },
    "language_info": {
      "name": "python"
    }
  },
  "cells": [
    {
      "cell_type": "markdown",
      "metadata": {
        "id": "view-in-github",
        "colab_type": "text"
      },
      "source": [
        "<a href=\"https://colab.research.google.com/github/barriletecosmico12/PROGCOM-B/blob/main/GODLIKE_QUEST_TWO_GQ3.ipynb\" target=\"_parent\"><img src=\"https://colab.research.google.com/assets/colab-badge.svg\" alt=\"Open In Colab\"/></a>"
      ]
    },
    {
      "cell_type": "code",
      "execution_count": 3,
      "metadata": {
        "colab": {
          "base_uri": "https://localhost:8080/"
        },
        "id": "0sHHL7YQLzWi",
        "outputId": "35212c34-0a43-4afa-e4de-a6ef3ed5ae94"
      },
      "outputs": [
        {
          "output_type": "stream",
          "name": "stdout",
          "text": [
            "Ingrese el precio spot del activo:10000\n",
            "Ingrese la tasa de interés anual:0.03\n",
            "Ingrese el tiempo al vencimiento (en años):1\n",
            "Ingrese el precio esperado del activo al vencimiento:12000\n",
            "El precio Forward calculado es: 10300.00\n",
            "Conviene comprar la acción hoy, porque se espera que suba más que el Forward.\n"
          ]
        }
      ],
      "source": [
        "precio= float(input(\"Ingrese el precio spot del activo:\"))\n",
        "interes = float(input(\"Ingrese la tasa de interés anual:\"))\n",
        "tiempo = float(input(\"Ingrese el tiempo al vencimiento (en años):\"))\n",
        "precioesperado = float(input(\"Ingrese el precio esperado del activo al vencimiento:\"))\n",
        "F = precio * (1 + interes)**tiempo\n",
        "\n",
        "print(f\"El precio Forward calculado es: {F:.2f}\")\n",
        "if precioesperado > F:\n",
        "    print(\"Conviene comprar la acción hoy, porque se espera que suba más que el Forward.\")\n",
        "elif precioesperado < F:\n",
        "    print(\"Conviene negociar con el Forward, porque el precio pactado es más bajo que el esperado.\")\n",
        "else:\n",
        "    print(\"Ambas opciones son buenas\")"
      ]
    }
  ]
}