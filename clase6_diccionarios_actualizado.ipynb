{
  "nbformat": 4,
  "nbformat_minor": 0,
  "metadata": {
    "colab": {
      "provenance": [],
      "include_colab_link": true
    },
    "kernelspec": {
      "name": "python3",
      "display_name": "Python 3"
    },
    "language_info": {
      "name": "python"
    }
  },
  "cells": [
    {
      "cell_type": "markdown",
      "metadata": {
        "id": "view-in-github",
        "colab_type": "text"
      },
      "source": [
        "<a href=\"https://colab.research.google.com/github/barriletecosmico12/PROGCOM-B/blob/main/clase6_diccionarios_actualizado.ipynb\" target=\"_parent\"><img src=\"https://colab.research.google.com/assets/colab-badge.svg\" alt=\"Open In Colab\"/></a>"
      ]
    },
    {
      "cell_type": "markdown",
      "source": [
        "##Diccionarios\n",
        "Estructura de datos que almacena valores\n",
        "\n",
        "sintaxis:\n",
        "\n",
        "```\n",
        "nombre_diccionario={\"llave\":valor}\n",
        "```\n",
        "*La llave: **SIEMPRE** tiene que ser alfanumérica\n",
        "*Valor: Cualquier tipo de dato\n"
      ],
      "metadata": {
        "id": "9Mkzm55dauyS"
      }
    },
    {
      "cell_type": "markdown",
      "source": [
        "Los diccionarios **NO** tienen indexación"
      ],
      "metadata": {
        "id": "W80Naa3KdDLv"
      }
    },
    {
      "cell_type": "code",
      "execution_count": null,
      "metadata": {
        "id": "QVqrqQPAYeON"
      },
      "outputs": [],
      "source": [
        "liga_justicia={\"superheroes\":[\"Batman\",\"Superman\",\"WonderWoman\"],\"identidades\":[\"Bruce\",\"Clark\",\"Diana\"]}"
      ]
    },
    {
      "cell_type": "code",
      "source": [
        "liga_villanos={\"villanos\":[\"Jocker\",\"Lex\",\"Pinguino\"],\"identidades\":[\"Bruce\",\"Clark\",\"Diana\"]}"
      ],
      "metadata": {
        "id": "RNWn2ipWi1gD"
      },
      "execution_count": null,
      "outputs": []
    },
    {
      "cell_type": "code",
      "source": [
        "type(liga_justicia)"
      ],
      "metadata": {
        "colab": {
          "base_uri": "https://localhost:8080/"
        },
        "id": "ucO6Zcx6cAIO",
        "outputId": "4de695dc-3505-4c76-c6ce-3159befff56c"
      },
      "execution_count": null,
      "outputs": [
        {
          "output_type": "execute_result",
          "data": {
            "text/plain": [
              "dict"
            ]
          },
          "metadata": {},
          "execution_count": 54
        }
      ]
    },
    {
      "cell_type": "code",
      "source": [
        "#ERROR no es indexación\n",
        "liga_justicia{}"
      ],
      "metadata": {
        "colab": {
          "base_uri": "https://localhost:8080/",
          "height": 106
        },
        "id": "B-wSE07QdVLH",
        "outputId": "5ceed892-9fbb-455b-83c0-33df96c31370"
      },
      "execution_count": null,
      "outputs": [
        {
          "output_type": "error",
          "ename": "SyntaxError",
          "evalue": "invalid syntax (ipython-input-2810998822.py, line 2)",
          "traceback": [
            "\u001b[0;36m  File \u001b[0;32m\"/tmp/ipython-input-2810998822.py\"\u001b[0;36m, line \u001b[0;32m2\u001b[0m\n\u001b[0;31m    liga_justicia{}\u001b[0m\n\u001b[0m                 ^\u001b[0m\n\u001b[0;31mSyntaxError\u001b[0m\u001b[0;31m:\u001b[0m invalid syntax\n"
          ]
        }
      ]
    },
    {
      "cell_type": "code",
      "source": [
        "liga_justicia[\"superheroes\"]"
      ],
      "metadata": {
        "colab": {
          "base_uri": "https://localhost:8080/"
        },
        "id": "KECm1V5PdNfX",
        "outputId": "5fa9f0f1-a5ec-436c-8e0c-9f66d50136ef"
      },
      "execution_count": null,
      "outputs": [
        {
          "output_type": "execute_result",
          "data": {
            "text/plain": [
              "['Batman', 'Superman', 'WonderWoman']"
            ]
          },
          "metadata": {},
          "execution_count": 11
        }
      ]
    },
    {
      "cell_type": "code",
      "source": [
        "liga_justicia[\"identidades\"][2]"
      ],
      "metadata": {
        "colab": {
          "base_uri": "https://localhost:8080/",
          "height": 35
        },
        "id": "5-YFo6jrdnAf",
        "outputId": "078a3ca8-cced-4c4e-bf0e-0cf958fd7999"
      },
      "execution_count": null,
      "outputs": [
        {
          "output_type": "execute_result",
          "data": {
            "text/plain": [
              "'Diana'"
            ],
            "application/vnd.google.colaboratory.intrinsic+json": {
              "type": "string"
            }
          },
          "metadata": {},
          "execution_count": 10
        }
      ]
    },
    {
      "cell_type": "markdown",
      "source": [
        "#Funciones asociadas a los diccionarios"
      ],
      "metadata": {
        "id": "NOEWkJZxeiWh"
      }
    },
    {
      "cell_type": "markdown",
      "source": [
        "##1. Clear():\n",
        "Elimina todos los elementos del diccionario\n",
        "\n",
        "Sintaxis:\n",
        "\n",
        "```\n",
        "diccionario.clear(llave)\n",
        "```\n",
        "\n"
      ],
      "metadata": {
        "id": "N_A29N8CgWht"
      }
    },
    {
      "cell_type": "code",
      "source": [
        "liga_justicia.clear()\n",
        "liga_justicia"
      ],
      "metadata": {
        "id": "QQ75KvQHeoYO"
      },
      "execution_count": null,
      "outputs": []
    },
    {
      "cell_type": "markdown",
      "source": [
        "##2. Pop():\n",
        "Elimina el elemento que está entre paréntesis\n",
        "\n",
        "Sintaxis:\n",
        "```\n",
        "diccionario.clear(llave)\n",
        "```\n",
        "\n"
      ],
      "metadata": {
        "id": "UnqMuYIahLS7"
      }
    },
    {
      "cell_type": "code",
      "source": [
        "liga_justicia.pop(\"superheroes\")\n",
        "liga_justicia"
      ],
      "metadata": {
        "colab": {
          "base_uri": "https://localhost:8080/"
        },
        "id": "9uWX7bIvhHOt",
        "outputId": "58c9ebba-0908-47e5-f6f8-6fdd10ae762a"
      },
      "execution_count": null,
      "outputs": [
        {
          "output_type": "execute_result",
          "data": {
            "text/plain": [
              "{'identidades': ['Bruce', 'Clark', 'Diana']}"
            ]
          },
          "metadata": {},
          "execution_count": 32
        }
      ]
    },
    {
      "cell_type": "markdown",
      "source": [
        "##3. Values():\n",
        "Imprime todos los valores del diccionario sin su respectiva clasificación.\n",
        "\n",
        "```\n",
        "diccionario.values()\n",
        "```\n",
        "\n"
      ],
      "metadata": {
        "id": "TNNSd-shh9sF"
      }
    },
    {
      "cell_type": "code",
      "source": [
        "liga_justicia.values()"
      ],
      "metadata": {
        "colab": {
          "base_uri": "https://localhost:8080/"
        },
        "id": "n1yGdt9Mhssr",
        "outputId": "330733de-6c15-4fa5-b9ed-25e08c7c0e70"
      },
      "execution_count": null,
      "outputs": [
        {
          "output_type": "execute_result",
          "data": {
            "text/plain": [
              "dict_values([['Batman', 'Superman', 'WonderWoman'], ['Bruce', 'Clark', 'Diana']])"
            ]
          },
          "metadata": {},
          "execution_count": 55
        }
      ]
    },
    {
      "cell_type": "markdown",
      "source": [
        "##4. Update():\n",
        "\n",
        "Actualiza el diccionario solicitado, agregándole el diccionario que se escribe entre paréntesis.\n",
        "\n",
        "Sintaxis:\n",
        "\n",
        "```\n",
        "diccionario1.update(diccionario2)\n",
        "```\n",
        "\n",
        "\n"
      ],
      "metadata": {
        "id": "NSKGbGlviSYT"
      }
    },
    {
      "cell_type": "code",
      "source": [
        "liga_justicia.update(liga_villanos)\n",
        "liga_justicia"
      ],
      "metadata": {
        "colab": {
          "base_uri": "https://localhost:8080/"
        },
        "id": "so_AHgvPitFi",
        "outputId": "471e4fcb-6201-42f4-c232-2e161d9c512c"
      },
      "execution_count": null,
      "outputs": [
        {
          "output_type": "execute_result",
          "data": {
            "text/plain": [
              "{'superheroes': ['Batman', 'Superman', 'WonderWoman'],\n",
              " 'identidades': ['Bruce', 'Clark', 'Diana'],\n",
              " 'villanos': ['Jocker', 'Lex', 'Pinguino']}"
            ]
          },
          "metadata": {},
          "execution_count": 46
        }
      ]
    },
    {
      "cell_type": "markdown",
      "source": [
        "##5. Copy():\n",
        "Copia y agrega un segundo diccionario al diccionario solicitado\n",
        "\n",
        "\n",
        "```\n",
        "diccionario1=diccionario2.copy()\n",
        "```\n",
        "\n"
      ],
      "metadata": {
        "id": "ZFQI4UW7lqGp"
      }
    },
    {
      "cell_type": "code",
      "source": [
        "liga_villanos={}\n",
        "liga_villanos=liga_justicia.copy()\n",
        "liga_villanos"
      ],
      "metadata": {
        "colab": {
          "base_uri": "https://localhost:8080/"
        },
        "id": "mFejwDdjlzgh",
        "outputId": "05aab9c8-832c-43e7-dd58-09fce6419d4b"
      },
      "execution_count": null,
      "outputs": [
        {
          "output_type": "execute_result",
          "data": {
            "text/plain": [
              "{'superheroes': ['Batman', 'Superman', 'WonderWoman'],\n",
              " 'identidades': ['Bruce', 'Clark', 'Diana'],\n",
              " 'villanos': ['Jocker', 'Lex', 'Pinguino']}"
            ]
          },
          "metadata": {},
          "execution_count": 49
        }
      ]
    },
    {
      "cell_type": "markdown",
      "source": [
        "##6. Fromkeys\n",
        "\n",
        "```\n",
        "# Esto tiene formato de código\n",
        "```\n",
        "crea un nuevo diccionario a partir de llaves"
      ],
      "metadata": {
        "id": "cODHDOYepC02"
      }
    },
    {
      "cell_type": "code",
      "source": [
        "marvel_superhéroes=[\"ironman\",\"spiderman\",\"capitán américa\"]\n",
        "edad=33\n",
        "marvelitas=dict.fromkeys(marvel_superhéroes,edad)\n",
        "marvelitas"
      ],
      "metadata": {
        "id": "rq2engSYtUX8"
      },
      "execution_count": null,
      "outputs": []
    },
    {
      "cell_type": "markdown",
      "source": [
        "##7.get\n",
        "\n",
        "extrae los elementos de cada llave\n",
        "```\n",
        "# Esto tiene formato de código\n",
        "```\n",
        "liga_justicia.get()"
      ],
      "metadata": {
        "id": "iz-s2aUgtZKa"
      }
    },
    {
      "cell_type": "code",
      "source": [
        "liga_justicia"
      ],
      "metadata": {
        "colab": {
          "base_uri": "https://localhost:8080/"
        },
        "outputId": "1ce14ec7-5f1f-4337-9acb-24f4789bafac",
        "id": "J-Qu3SMXpn1e"
      },
      "execution_count": null,
      "outputs": [
        {
          "output_type": "execute_result",
          "data": {
            "text/plain": [
              "{'superheroes': ['Batman', 'Superman', 'WonderWoman'],\n",
              " 'identidades': ['Bruce', 'Clark', 'Diana']}"
            ]
          },
          "metadata": {},
          "execution_count": 56
        }
      ]
    },
    {
      "cell_type": "code",
      "source": [
        "liga_justicia.get(\"superheroes\")"
      ],
      "metadata": {
        "colab": {
          "base_uri": "https://localhost:8080/"
        },
        "id": "_0Y71ZSwp4fF",
        "outputId": "20855a1c-b565-483a-871d-e8f5b461d8f5"
      },
      "execution_count": null,
      "outputs": [
        {
          "output_type": "execute_result",
          "data": {
            "text/plain": [
              "['Batman', 'Superman', 'WonderWoman']"
            ]
          },
          "metadata": {},
          "execution_count": 57
        }
      ]
    },
    {
      "cell_type": "markdown",
      "source": [
        "# 8. popitem\n",
        "\n",
        "\n",
        "```\n",
        "diccionario.popitem()\n",
        "```\n",
        "Elimina llaves de un diccionario."
      ],
      "metadata": {
        "id": "KGvSmqvWuLHZ"
      }
    },
    {
      "cell_type": "code",
      "source": [
        "liga_justicia"
      ],
      "metadata": {
        "colab": {
          "base_uri": "https://localhost:8080/"
        },
        "id": "dAvKZj5Ioygn",
        "outputId": "39d3fdf4-7417-477b-ba4a-e14face7d120"
      },
      "execution_count": null,
      "outputs": [
        {
          "output_type": "execute_result",
          "data": {
            "text/plain": [
              "{'superheroes': ['Batman', 'Superman', 'WonderWoman'],\n",
              " 'identidades': ['Bruce', 'Clark', 'Diana']}"
            ]
          },
          "metadata": {},
          "execution_count": 60
        }
      ]
    },
    {
      "cell_type": "code",
      "source": [
        "liga_justicia"
      ],
      "metadata": {
        "colab": {
          "base_uri": "https://localhost:8080/"
        },
        "id": "A8D_mzrqmxqx",
        "outputId": "807b2288-fd21-4e1c-868d-4994e334236e"
      },
      "execution_count": null,
      "outputs": [
        {
          "output_type": "execute_result",
          "data": {
            "text/plain": [
              "{'superheroes': ['Batman', 'Superman', 'WonderWoman'],\n",
              " 'identidades': ['Bruce', 'Clark', 'Diana']}"
            ]
          },
          "metadata": {},
          "execution_count": 59
        }
      ]
    },
    {
      "cell_type": "markdown",
      "source": [
        "#9. keys\n",
        "\n",
        "\n",
        "\n",
        "```\n",
        "diccionario.keys()\n",
        "```\n",
        "\n",
        " Muestra las llaves que se le agregan al dicciomario"
      ],
      "metadata": {
        "id": "xk3FbUJDuYiq"
      }
    },
    {
      "cell_type": "code",
      "source": [
        "liga_justicia.keys()"
      ],
      "metadata": {
        "colab": {
          "base_uri": "https://localhost:8080/"
        },
        "id": "Yl_-3BdIphfm",
        "outputId": "c94591a5-3729-4494-8d34-c79eb614ed99"
      },
      "execution_count": null,
      "outputs": [
        {
          "output_type": "execute_result",
          "data": {
            "text/plain": [
              "dict_keys(['superheroes', 'identidades'])"
            ]
          },
          "metadata": {},
          "execution_count": 81
        }
      ]
    },
    {
      "cell_type": "code",
      "source": [
        "liga_justicia"
      ],
      "metadata": {
        "colab": {
          "base_uri": "https://localhost:8080/"
        },
        "id": "OfNcb5-Lp_pW",
        "outputId": "c847830d-ec48-43fa-8958-8fe1a0905134"
      },
      "execution_count": null,
      "outputs": [
        {
          "output_type": "execute_result",
          "data": {
            "text/plain": [
              "{'superheroes': ['batman', 'superman', 'wonderwoman'],\n",
              " 'identidades': ['bruce wayne', 'clark kent', 'diana prince']}"
            ]
          },
          "metadata": {},
          "execution_count": 82
        }
      ]
    },
    {
      "cell_type": "markdown",
      "source": [
        "##10) Items\n",
        "\n",
        "nos indica a detalle todos los componentes incluidos en el diccionario\n",
        "\n",
        "sintaxis\n",
        "\n",
        "```\n",
        "diccionario.items()\n",
        "```\n",
        "\n"
      ],
      "metadata": {
        "id": "dkqe2kYTuhSp"
      }
    },
    {
      "cell_type": "code",
      "source": [
        "liga_justicia.items()"
      ],
      "metadata": {
        "colab": {
          "base_uri": "https://localhost:8080/"
        },
        "id": "mAulJ_2AutEr",
        "outputId": "9740ba32-9b66-4784-ed38-349af7fd7944"
      },
      "execution_count": null,
      "outputs": [
        {
          "output_type": "execute_result",
          "data": {
            "text/plain": [
              "dict_items([('superheroes', ['Batman', 'Superman', 'WonderWoman']), ('identidades', ['Bruce', 'Clark', 'Diana'])])"
            ]
          },
          "metadata": {},
          "execution_count": 61
        }
      ]
    },
    {
      "cell_type": "markdown",
      "source": [
        "##11)setdefault\n",
        "\n",
        "Devuelve el valor de una clave si existe; si no, la crea con un valor por defecto y lo devuelve.\n",
        "\n",
        "sintaxis\n",
        "\n",
        "\n",
        "```\n",
        "diccionario.setdafult()\n",
        "```\n",
        "\n"
      ],
      "metadata": {
        "id": "dzrE6zcgu46p"
      }
    },
    {
      "cell_type": "code",
      "source": [
        "liga_justicia.setdefault(\"superheroes\")"
      ],
      "metadata": {
        "colab": {
          "base_uri": "https://localhost:8080/"
        },
        "id": "OvI8US2Yu0iA",
        "outputId": "1724a207-62c8-4a33-fc78-f3b06606b25f"
      },
      "execution_count": null,
      "outputs": [
        {
          "output_type": "execute_result",
          "data": {
            "text/plain": [
              "['Batman', 'Superman', 'WonderWoman']"
            ]
          },
          "metadata": {},
          "execution_count": 65
        }
      ]
    },
    {
      "cell_type": "markdown",
      "source": [
        "#EJERCICIOS PRUEBA DIAGNÓSTICA"
      ],
      "metadata": {
        "id": "uecCLXW-Hj1G"
      }
    },
    {
      "cell_type": "markdown",
      "source": [
        "13 Crea una función que reciba un diccionario con claves &#39;nombre&#39; y &#39;edad&#39;, y retorne un mensaje con\n",
        "esos datos."
      ],
      "metadata": {
        "id": "P5GGXoI5JoeL"
      }
    },
    {
      "cell_type": "code",
      "source": [
        "def mensaje(personas):\n",
        "    nombre = personas.get(\"nombre\")\n",
        "    edad = personas.get(\"edad\")\n",
        "    return f\"{nombre} tiene {edad} años.\"\n",
        "personas = {\"nombre\": \"Carlos\", \"edad\": 30}\n",
        "mensaje = mensaje(personas)\n",
        "print(mensaje)\n"
      ],
      "metadata": {
        "colab": {
          "base_uri": "https://localhost:8080/"
        },
        "id": "DHnFOWrXJoRj",
        "outputId": "f554f89d-f2c6-4c3a-8079-74523d19ab1f"
      },
      "execution_count": null,
      "outputs": [
        {
          "output_type": "stream",
          "name": "stdout",
          "text": [
            "Carlos tiene 30 años.\n"
          ]
        }
      ]
    },
    {
      "cell_type": "markdown",
      "source": [
        "14 Crea una función que reciba un diccionario de productos (clave: nombre, valor: precio) y retorne el\n",
        "total."
      ],
      "metadata": {
        "id": "0dD2iN8mJn7M"
      }
    },
    {
      "cell_type": "code",
      "source": [
        "def total(productos):\n",
        "    total = sum([precio for precio in productos.values()])\n",
        "    return total\n",
        "productos = {\"manzana\": 1.5,\"pera\": 2.0,\"uva\": 3.25}\n",
        "print(total(productos))"
      ],
      "metadata": {
        "colab": {
          "base_uri": "https://localhost:8080/"
        },
        "id": "l4Mkp6ZEJnqr",
        "outputId": "f2342970-726b-469c-813d-b42cae2ca0f5"
      },
      "execution_count": null,
      "outputs": [
        {
          "output_type": "stream",
          "name": "stdout",
          "text": [
            "6.75\n"
          ]
        }
      ]
    },
    {
      "cell_type": "code",
      "source": [
        "def total(productos):\n",
        "    total = sum(productos.values())\n",
        "    return total\n",
        "productos = {\"manzana\": 1.5,\"pera\": 2.0,\"uva\": 3.25}\n",
        "print(total(productos))\n"
      ],
      "metadata": {
        "colab": {
          "base_uri": "https://localhost:8080/"
        },
        "id": "Oh19XEZfKHnz",
        "outputId": "51772c8d-561e-4a1c-d7be-4e20b9357782"
      },
      "execution_count": null,
      "outputs": [
        {
          "output_type": "stream",
          "name": "stdout",
          "text": [
            "6.75\n"
          ]
        }
      ]
    },
    {
      "cell_type": "markdown",
      "source": [
        "15 Crea una función que reciba un diccionario de estudiantes (clave: nombre, valor: nota) y retorne el\n",
        "promedio."
      ],
      "metadata": {
        "id": "oQod9g1nH0IU"
      }
    },
    {
      "cell_type": "code",
      "source": [
        "def calcular_promedio(estudiantes):\n",
        "    if not estudiantes:\n",
        "        return 0.0\n",
        "    suma = sum(estudiantes.values())\n",
        "    return suma / len(estudiantes)\n",
        "notas = {\"Pedro\": 80, \"Sofia\": 90, \"Miguel\": 85}\n",
        "print(\"Promedio:\", calcular_promedio(notas))"
      ],
      "metadata": {
        "colab": {
          "base_uri": "https://localhost:8080/"
        },
        "id": "kt0qtr_mHzdl",
        "outputId": "a79d04ea-5010-426d-fbae-a05a99d92da0"
      },
      "execution_count": null,
      "outputs": [
        {
          "output_type": "stream",
          "name": "stdout",
          "text": [
            "Promedio: 85.0\n"
          ]
        }
      ]
    },
    {
      "cell_type": "markdown",
      "source": [
        "16 Crea una función que reciba un diccionario y un nombre, y retorne la nota si existe o &#39;no\n",
        "encontrado&#39;."
      ],
      "metadata": {
        "id": "gmqRpAZKH5yM"
      }
    },
    {
      "cell_type": "code",
      "source": [
        "def obtener_nota(diccionario, nombre):\n",
        "        return diccionario.get(nombre, 'no encontrado')\n",
        "nota_estudiantes= {'luis': 2.7, 'sara': 4.3, \"Miguel\":4.9}\n",
        "print(nota_estudiantes.get('sara'))\n",
        "print(nota_estudiantes.get('Aldana',\"no encontrado\"))\n"
      ],
      "metadata": {
        "colab": {
          "base_uri": "https://localhost:8080/"
        },
        "id": "oAs6IkYLH7aM",
        "outputId": "73c3157b-8be3-465a-c12a-1e50d9e53f20"
      },
      "execution_count": null,
      "outputs": [
        {
          "output_type": "stream",
          "name": "stdout",
          "text": [
            "4.3\n",
            "no encontrado\n"
          ]
        }
      ]
    },
    {
      "cell_type": "markdown",
      "source": [
        "17 Crea una función que reciba un diccionario y retorne el nombre del estudiante con mayor nota."
      ],
      "metadata": {
        "id": "s3IhfaiGH8Q8"
      }
    },
    {
      "cell_type": "code",
      "source": [
        "notas = {\"Aldana\": 3.5, \"Harry\": 4.7, \"Tomas\": 4.2, \"Camilo\": 2.9}\n",
        "def estudiante_mayor_nota(notas):\n",
        "    mayor = [nombre for nota, nombre in [(nota, nombre) for nombre, nota in notas.items()] if nota == max(notas.values())][0]\n",
        "print(\"El estudiante con mayor nota es:\", \"mayor\")"
      ],
      "metadata": {
        "colab": {
          "base_uri": "https://localhost:8080/"
        },
        "id": "oQCAWY9UH70F",
        "outputId": "6edacf74-5bf4-4c23-fc3d-1db410fb2a3b"
      },
      "execution_count": null,
      "outputs": [
        {
          "output_type": "stream",
          "name": "stdout",
          "text": [
            "El estudiante con mayor nota es: mayor\n"
          ]
        }
      ]
    },
    {
      "cell_type": "markdown",
      "source": [
        "18 Crea una función que reciba un diccionario de productos y retorne los productos con precios\n",
        "mayores a un valor dado."
      ],
      "metadata": {
        "id": "Pm-_nj4gIAgU"
      }
    },
    {
      "cell_type": "code",
      "source": [
        "productos = {\"pan\": 2000, \"leche\": 3500, \"queso\": 8000, \"arroz\": 4500}\n",
        "valor = 3000\n",
        "def productos_mayores(productos,valor):\n",
        "    mayores = [producto for producto, precio in productos.items() if precio > valor]\n",
        "\n",
        "print(\"Productos mayores a\", valor, \":\", \"mayores\")"
      ],
      "metadata": {
        "colab": {
          "base_uri": "https://localhost:8080/"
        },
        "id": "bvIA_XrvICzs",
        "outputId": "1d02c100-be10-4482-adfc-2081b7053f1f"
      },
      "execution_count": null,
      "outputs": [
        {
          "output_type": "stream",
          "name": "stdout",
          "text": [
            "Productos mayores a 3000 : mayores\n"
          ]
        }
      ]
    },
    {
      "cell_type": "markdown",
      "source": [
        "19 Crea una función que reciba un diccionario de empleados (clave: nombre, valor: lista de horas\n",
        "trabajadas) y retorne el total de horas por empleado."
      ],
      "metadata": {
        "id": "rVJt1m38IDic"
      }
    },
    {
      "cell_type": "code",
      "source": [
        "empleados={\"clave\":[\"12345678\",\"987654321\"],\"nombre\":[\"Juan\",\"Ivan\"],\"valor\":[7000,1000],\"horas_trabajadas\":[7,8]}\n",
        "empleados"
      ],
      "metadata": {
        "colab": {
          "base_uri": "https://localhost:8080/"
        },
        "id": "7s-JqofqIJzc",
        "outputId": "3f1eaa50-8b38-420b-d071-8b10f6126d35"
      },
      "execution_count": null,
      "outputs": [
        {
          "output_type": "execute_result",
          "data": {
            "text/plain": [
              "{'clave': ['12345678', '987654321'],\n",
              " 'nombre': ['Juan', 'Ivan'],\n",
              " 'valor': [7000, 1000],\n",
              " 'horas_trabajadas': [7, 8]}"
            ]
          },
          "metadata": {},
          "execution_count": 4
        }
      ]
    },
    {
      "cell_type": "code",
      "source": [
        "def Horas(a):\n",
        "  print(\"¿A qué trabajador quiere verle las horas?\")\n",
        "  for i in range(len(a.get(\"nombre\"))):\n",
        "    print(a[\"nombre\"][i])\n",
        "  rta=input(\"\")\n",
        "  if rta == \"Ivan\":\n",
        "    print(8)\n",
        "  elif rta == \"Juan\":\n",
        "     print(7)\n",
        "  else:\n",
        "    print(\"RESPUESTA INVÁLIDA\")"
      ],
      "metadata": {
        "id": "LoSokBDZIqLk"
      },
      "execution_count": null,
      "outputs": []
    },
    {
      "cell_type": "code",
      "source": [
        "Horas(empleados)"
      ],
      "metadata": {
        "colab": {
          "base_uri": "https://localhost:8080/"
        },
        "id": "XeR2DrITJBGs",
        "outputId": "150d3b85-a7fd-4c5f-d5a8-e7e0e96dad1a"
      },
      "execution_count": null,
      "outputs": [
        {
          "output_type": "stream",
          "name": "stdout",
          "text": [
            "¿A qué trabajador quiere verle las horas?\n",
            "Juan\n",
            "Ivan\n",
            "Juan\n",
            "7\n"
          ]
        }
      ]
    },
    {
      "cell_type": "markdown",
      "source": [
        "20 Crea una función que reciba un diccionario anidado con datos de estudiantes (nombre  {&#39;nota&#39;: x,\n",
        "&#39;edad&#39;: y}) y retorne el promedio de notas de los mayores de edad."
      ],
      "metadata": {
        "id": "eykLe8VjIKQc"
      }
    },
    {
      "cell_type": "code",
      "source": [
        "estudiantes = {\"Juan\": {\"nota\": 95, \"edad\": 20},\"Ivan\": {\"nota\": 80, \"edad\": 17},\"Pedro\": {\"nota\": 90, \"edad\": 22},'Ana': {\"nota\": 75, \"edad\": 19},\"Pepito\": {\"nota\": 85, \"edad\": 16}}\n",
        "estudiantes"
      ],
      "metadata": {
        "colab": {
          "base_uri": "https://localhost:8080/"
        },
        "id": "RuVVPEBCJTs0",
        "outputId": "0b2fb937-a8e5-4f67-a282-70f24510c8d5"
      },
      "execution_count": null,
      "outputs": [
        {
          "output_type": "execute_result",
          "data": {
            "text/plain": [
              "{'Juan': {'nota': 95, 'edad': 20},\n",
              " 'Ivan': {'nota': 80, 'edad': 17},\n",
              " 'Pedro': {'nota': 90, 'edad': 22},\n",
              " 'Ana': {'nota': 75, 'edad': 19},\n",
              " 'Pepito': {'nota': 85, 'edad': 16}}"
            ]
          },
          "metadata": {},
          "execution_count": 14
        }
      ]
    },
    {
      "cell_type": "code",
      "source": [
        "def promedio_mayores(estudiantes):\n",
        "    suma_notas = 0\n",
        "    conteo_mayores = 0\n",
        "\n",
        "    for años in estudiantes.values():\n",
        "        if años['edad'] >= 18:\n",
        "            suma_notas += años['nota']\n",
        "            conteo_mayores += 1\n",
        "\n",
        "    if conteo_mayores > 0:\n",
        "        return suma_notas / conteo_mayores\n",
        "    else:\n",
        "        return 0\n",
        "promedio = promedio_mayores(estudiantes)\n",
        "print(f\"El promedio de las notas de los estudiantes que son mayores de edad es: {promedio}\")"
      ],
      "metadata": {
        "colab": {
          "base_uri": "https://localhost:8080/"
        },
        "id": "8Yk_YKc1JUiE",
        "outputId": "57dcad40-01fb-44c0-861a-cfbfb7c84bd4"
      },
      "execution_count": null,
      "outputs": [
        {
          "output_type": "stream",
          "name": "stdout",
          "text": [
            "El promedio de las notas de los estudiantes que son mayores de edad es: 86.66666666666667\n"
          ]
        }
      ]
    }
  ]
}